{
 "cells": [
  {
   "cell_type": "code",
   "execution_count": 1,
   "metadata": {},
   "outputs": [],
   "source": [
    "import pandas as pd\n",
    "import numpy as np\n",
    "import matplotlib.pyplot as plt\n",
    "import seaborn as sns\n",
    "from sklearn import datasets, linear_model, metrics"
   ]
  },
  {
   "cell_type": "markdown",
   "metadata": {},
   "source": [
    "### Data Understanding"
   ]
  },
  {
   "cell_type": "code",
   "execution_count": 2,
   "metadata": {},
   "outputs": [],
   "source": [
    "# membaca data\n",
    "data = pd.read_csv('CarPrice_Assignment.csv')"
   ]
  },
  {
   "cell_type": "code",
   "execution_count": 3,
   "metadata": {},
   "outputs": [
    {
     "name": "stdout",
     "output_type": "stream",
     "text": [
      "<class 'pandas.core.frame.DataFrame'>\n",
      "RangeIndex: 205 entries, 0 to 204\n",
      "Data columns (total 26 columns):\n",
      " #   Column            Non-Null Count  Dtype  \n",
      "---  ------            --------------  -----  \n",
      " 0   car_ID            205 non-null    int64  \n",
      " 1   symboling         205 non-null    int64  \n",
      " 2   CarName           205 non-null    object \n",
      " 3   fueltype          205 non-null    object \n",
      " 4   aspiration        205 non-null    object \n",
      " 5   doornumber        205 non-null    object \n",
      " 6   carbody           205 non-null    object \n",
      " 7   drivewheel        205 non-null    object \n",
      " 8   enginelocation    205 non-null    object \n",
      " 9   wheelbase         205 non-null    float64\n",
      " 10  carlength         205 non-null    float64\n",
      " 11  carwidth          205 non-null    float64\n",
      " 12  carheight         205 non-null    float64\n",
      " 13  curbweight        205 non-null    int64  \n",
      " 14  enginetype        205 non-null    object \n",
      " 15  cylindernumber    205 non-null    object \n",
      " 16  enginesize        205 non-null    int64  \n",
      " 17  fuelsystem        205 non-null    object \n",
      " 18  boreratio         205 non-null    float64\n",
      " 19  stroke            205 non-null    float64\n",
      " 20  compressionratio  205 non-null    float64\n",
      " 21  horsepower        205 non-null    int64  \n",
      " 22  peakrpm           205 non-null    int64  \n",
      " 23  citympg           205 non-null    int64  \n",
      " 24  highwaympg        205 non-null    int64  \n",
      " 25  price             205 non-null    float64\n",
      "dtypes: float64(8), int64(8), object(10)\n",
      "memory usage: 41.8+ KB\n"
     ]
    }
   ],
   "source": [
    "data.info()"
   ]
  },
  {
   "cell_type": "code",
   "execution_count": 4,
   "metadata": {},
   "outputs": [
    {
     "data": {
      "text/plain": [
       "car_ID              0\n",
       "symboling           0\n",
       "CarName             0\n",
       "fueltype            0\n",
       "aspiration          0\n",
       "doornumber          0\n",
       "carbody             0\n",
       "drivewheel          0\n",
       "enginelocation      0\n",
       "wheelbase           0\n",
       "carlength           0\n",
       "carwidth            0\n",
       "carheight           0\n",
       "curbweight          0\n",
       "enginetype          0\n",
       "cylindernumber      0\n",
       "enginesize          0\n",
       "fuelsystem          0\n",
       "boreratio           0\n",
       "stroke              0\n",
       "compressionratio    0\n",
       "horsepower          0\n",
       "peakrpm             0\n",
       "citympg             0\n",
       "highwaympg          0\n",
       "price               0\n",
       "dtype: int64"
      ]
     },
     "execution_count": 4,
     "metadata": {},
     "output_type": "execute_result"
    }
   ],
   "source": [
    "# mengecek missing value\n",
    "data.isna().sum()"
   ]
  },
  {
   "cell_type": "markdown",
   "metadata": {},
   "source": [
    "Tidak terdapat missing value"
   ]
  },
  {
   "cell_type": "code",
   "execution_count": 5,
   "metadata": {},
   "outputs": [
    {
     "data": {
      "text/plain": [
       "0"
      ]
     },
     "execution_count": 5,
     "metadata": {},
     "output_type": "execute_result"
    }
   ],
   "source": [
    "# mengecek data duplikat\n",
    "data.duplicated().sum()"
   ]
  },
  {
   "cell_type": "markdown",
   "metadata": {},
   "source": [
    "Tidak terdapat data duplikat"
   ]
  },
  {
   "cell_type": "code",
   "execution_count": 6,
   "metadata": {},
   "outputs": [
    {
     "data": {
      "text/html": [
       "<div>\n",
       "<style scoped>\n",
       "    .dataframe tbody tr th:only-of-type {\n",
       "        vertical-align: middle;\n",
       "    }\n",
       "\n",
       "    .dataframe tbody tr th {\n",
       "        vertical-align: top;\n",
       "    }\n",
       "\n",
       "    .dataframe thead th {\n",
       "        text-align: right;\n",
       "    }\n",
       "</style>\n",
       "<table border=\"1\" class=\"dataframe\">\n",
       "  <thead>\n",
       "    <tr style=\"text-align: right;\">\n",
       "      <th></th>\n",
       "      <th>car_ID</th>\n",
       "      <th>symboling</th>\n",
       "      <th>CarName</th>\n",
       "      <th>fueltype</th>\n",
       "      <th>aspiration</th>\n",
       "      <th>doornumber</th>\n",
       "      <th>carbody</th>\n",
       "      <th>drivewheel</th>\n",
       "      <th>enginelocation</th>\n",
       "      <th>wheelbase</th>\n",
       "      <th>...</th>\n",
       "      <th>enginesize</th>\n",
       "      <th>fuelsystem</th>\n",
       "      <th>boreratio</th>\n",
       "      <th>stroke</th>\n",
       "      <th>compressionratio</th>\n",
       "      <th>horsepower</th>\n",
       "      <th>peakrpm</th>\n",
       "      <th>citympg</th>\n",
       "      <th>highwaympg</th>\n",
       "      <th>price</th>\n",
       "    </tr>\n",
       "  </thead>\n",
       "  <tbody>\n",
       "    <tr>\n",
       "      <th>0</th>\n",
       "      <td>1</td>\n",
       "      <td>3</td>\n",
       "      <td>alfa-romero giulia</td>\n",
       "      <td>gas</td>\n",
       "      <td>std</td>\n",
       "      <td>two</td>\n",
       "      <td>convertible</td>\n",
       "      <td>rwd</td>\n",
       "      <td>front</td>\n",
       "      <td>88.6</td>\n",
       "      <td>...</td>\n",
       "      <td>130</td>\n",
       "      <td>mpfi</td>\n",
       "      <td>3.47</td>\n",
       "      <td>2.68</td>\n",
       "      <td>9.0</td>\n",
       "      <td>111</td>\n",
       "      <td>5000</td>\n",
       "      <td>21</td>\n",
       "      <td>27</td>\n",
       "      <td>13495.0</td>\n",
       "    </tr>\n",
       "    <tr>\n",
       "      <th>1</th>\n",
       "      <td>2</td>\n",
       "      <td>3</td>\n",
       "      <td>alfa-romero stelvio</td>\n",
       "      <td>gas</td>\n",
       "      <td>std</td>\n",
       "      <td>two</td>\n",
       "      <td>convertible</td>\n",
       "      <td>rwd</td>\n",
       "      <td>front</td>\n",
       "      <td>88.6</td>\n",
       "      <td>...</td>\n",
       "      <td>130</td>\n",
       "      <td>mpfi</td>\n",
       "      <td>3.47</td>\n",
       "      <td>2.68</td>\n",
       "      <td>9.0</td>\n",
       "      <td>111</td>\n",
       "      <td>5000</td>\n",
       "      <td>21</td>\n",
       "      <td>27</td>\n",
       "      <td>16500.0</td>\n",
       "    </tr>\n",
       "    <tr>\n",
       "      <th>2</th>\n",
       "      <td>3</td>\n",
       "      <td>1</td>\n",
       "      <td>alfa-romero Quadrifoglio</td>\n",
       "      <td>gas</td>\n",
       "      <td>std</td>\n",
       "      <td>two</td>\n",
       "      <td>hatchback</td>\n",
       "      <td>rwd</td>\n",
       "      <td>front</td>\n",
       "      <td>94.5</td>\n",
       "      <td>...</td>\n",
       "      <td>152</td>\n",
       "      <td>mpfi</td>\n",
       "      <td>2.68</td>\n",
       "      <td>3.47</td>\n",
       "      <td>9.0</td>\n",
       "      <td>154</td>\n",
       "      <td>5000</td>\n",
       "      <td>19</td>\n",
       "      <td>26</td>\n",
       "      <td>16500.0</td>\n",
       "    </tr>\n",
       "    <tr>\n",
       "      <th>3</th>\n",
       "      <td>4</td>\n",
       "      <td>2</td>\n",
       "      <td>audi 100 ls</td>\n",
       "      <td>gas</td>\n",
       "      <td>std</td>\n",
       "      <td>four</td>\n",
       "      <td>sedan</td>\n",
       "      <td>fwd</td>\n",
       "      <td>front</td>\n",
       "      <td>99.8</td>\n",
       "      <td>...</td>\n",
       "      <td>109</td>\n",
       "      <td>mpfi</td>\n",
       "      <td>3.19</td>\n",
       "      <td>3.40</td>\n",
       "      <td>10.0</td>\n",
       "      <td>102</td>\n",
       "      <td>5500</td>\n",
       "      <td>24</td>\n",
       "      <td>30</td>\n",
       "      <td>13950.0</td>\n",
       "    </tr>\n",
       "    <tr>\n",
       "      <th>4</th>\n",
       "      <td>5</td>\n",
       "      <td>2</td>\n",
       "      <td>audi 100ls</td>\n",
       "      <td>gas</td>\n",
       "      <td>std</td>\n",
       "      <td>four</td>\n",
       "      <td>sedan</td>\n",
       "      <td>4wd</td>\n",
       "      <td>front</td>\n",
       "      <td>99.4</td>\n",
       "      <td>...</td>\n",
       "      <td>136</td>\n",
       "      <td>mpfi</td>\n",
       "      <td>3.19</td>\n",
       "      <td>3.40</td>\n",
       "      <td>8.0</td>\n",
       "      <td>115</td>\n",
       "      <td>5500</td>\n",
       "      <td>18</td>\n",
       "      <td>22</td>\n",
       "      <td>17450.0</td>\n",
       "    </tr>\n",
       "  </tbody>\n",
       "</table>\n",
       "<p>5 rows × 26 columns</p>\n",
       "</div>"
      ],
      "text/plain": [
       "   car_ID  symboling                   CarName fueltype aspiration doornumber  \\\n",
       "0       1          3        alfa-romero giulia      gas        std        two   \n",
       "1       2          3       alfa-romero stelvio      gas        std        two   \n",
       "2       3          1  alfa-romero Quadrifoglio      gas        std        two   \n",
       "3       4          2               audi 100 ls      gas        std       four   \n",
       "4       5          2                audi 100ls      gas        std       four   \n",
       "\n",
       "       carbody drivewheel enginelocation  wheelbase  ...  enginesize  \\\n",
       "0  convertible        rwd          front       88.6  ...         130   \n",
       "1  convertible        rwd          front       88.6  ...         130   \n",
       "2    hatchback        rwd          front       94.5  ...         152   \n",
       "3        sedan        fwd          front       99.8  ...         109   \n",
       "4        sedan        4wd          front       99.4  ...         136   \n",
       "\n",
       "   fuelsystem  boreratio  stroke compressionratio horsepower  peakrpm citympg  \\\n",
       "0        mpfi       3.47    2.68              9.0        111     5000      21   \n",
       "1        mpfi       3.47    2.68              9.0        111     5000      21   \n",
       "2        mpfi       2.68    3.47              9.0        154     5000      19   \n",
       "3        mpfi       3.19    3.40             10.0        102     5500      24   \n",
       "4        mpfi       3.19    3.40              8.0        115     5500      18   \n",
       "\n",
       "   highwaympg    price  \n",
       "0          27  13495.0  \n",
       "1          27  16500.0  \n",
       "2          26  16500.0  \n",
       "3          30  13950.0  \n",
       "4          22  17450.0  \n",
       "\n",
       "[5 rows x 26 columns]"
      ]
     },
     "execution_count": 6,
     "metadata": {},
     "output_type": "execute_result"
    }
   ],
   "source": [
    "data.head()"
   ]
  },
  {
   "cell_type": "markdown",
   "metadata": {},
   "source": [
    "### Exploratory Data Analysis"
   ]
  },
  {
   "cell_type": "code",
   "execution_count": 7,
   "metadata": {},
   "outputs": [],
   "source": [
    "# mengecek data kategori\n",
    "categorical_column = data.dtypes==object\n",
    "categorical_data = data.columns[categorical_column].tolist()"
   ]
  },
  {
   "cell_type": "code",
   "execution_count": 8,
   "metadata": {},
   "outputs": [
    {
     "name": "stdout",
     "output_type": "stream",
     "text": [
      "data unik dari CarName adalah :\n",
      "['alfa-romero giulia' 'alfa-romero stelvio' 'alfa-romero Quadrifoglio'\n",
      " 'audi 100 ls' 'audi 100ls' 'audi fox' 'audi 5000' 'audi 4000'\n",
      " 'audi 5000s (diesel)' 'bmw 320i' 'bmw x1' 'bmw x3' 'bmw z4' 'bmw x4'\n",
      " 'bmw x5' 'chevrolet impala' 'chevrolet monte carlo' 'chevrolet vega 2300'\n",
      " 'dodge rampage' 'dodge challenger se' 'dodge d200' 'dodge monaco (sw)'\n",
      " 'dodge colt hardtop' 'dodge colt (sw)' 'dodge coronet custom'\n",
      " 'dodge dart custom' 'dodge coronet custom (sw)' 'honda civic'\n",
      " 'honda civic cvcc' 'honda accord cvcc' 'honda accord lx'\n",
      " 'honda civic 1500 gl' 'honda accord' 'honda civic 1300' 'honda prelude'\n",
      " 'honda civic (auto)' 'isuzu MU-X' 'isuzu D-Max ' 'isuzu D-Max V-Cross'\n",
      " 'jaguar xj' 'jaguar xf' 'jaguar xk' 'maxda rx3' 'maxda glc deluxe'\n",
      " 'mazda rx2 coupe' 'mazda rx-4' 'mazda glc deluxe' 'mazda 626' 'mazda glc'\n",
      " 'mazda rx-7 gs' 'mazda glc 4' 'mazda glc custom l' 'mazda glc custom'\n",
      " 'buick electra 225 custom' 'buick century luxus (sw)' 'buick century'\n",
      " 'buick skyhawk' 'buick opel isuzu deluxe' 'buick skylark'\n",
      " 'buick century special' 'buick regal sport coupe (turbo)'\n",
      " 'mercury cougar' 'mitsubishi mirage' 'mitsubishi lancer'\n",
      " 'mitsubishi outlander' 'mitsubishi g4' 'mitsubishi mirage g4'\n",
      " 'mitsubishi montero' 'mitsubishi pajero' 'Nissan versa' 'nissan gt-r'\n",
      " 'nissan rogue' 'nissan latio' 'nissan titan' 'nissan leaf' 'nissan juke'\n",
      " 'nissan note' 'nissan clipper' 'nissan nv200' 'nissan dayz' 'nissan fuga'\n",
      " 'nissan otti' 'nissan teana' 'nissan kicks' 'peugeot 504' 'peugeot 304'\n",
      " 'peugeot 504 (sw)' 'peugeot 604sl' 'peugeot 505s turbo diesel'\n",
      " 'plymouth fury iii' 'plymouth cricket' 'plymouth satellite custom (sw)'\n",
      " 'plymouth fury gran sedan' 'plymouth valiant' 'plymouth duster'\n",
      " 'porsche macan' 'porcshce panamera' 'porsche cayenne' 'porsche boxter'\n",
      " 'renault 12tl' 'renault 5 gtl' 'saab 99e' 'saab 99le' 'saab 99gle'\n",
      " 'subaru' 'subaru dl' 'subaru brz' 'subaru baja' 'subaru r1' 'subaru r2'\n",
      " 'subaru trezia' 'subaru tribeca' 'toyota corona mark ii' 'toyota corona'\n",
      " 'toyota corolla 1200' 'toyota corona hardtop' 'toyota corolla 1600 (sw)'\n",
      " 'toyota carina' 'toyota mark ii' 'toyota corolla'\n",
      " 'toyota corolla liftback' 'toyota celica gt liftback'\n",
      " 'toyota corolla tercel' 'toyota corona liftback' 'toyota starlet'\n",
      " 'toyota tercel' 'toyota cressida' 'toyota celica gt' 'toyouta tercel'\n",
      " 'vokswagen rabbit' 'volkswagen 1131 deluxe sedan' 'volkswagen model 111'\n",
      " 'volkswagen type 3' 'volkswagen 411 (sw)' 'volkswagen super beetle'\n",
      " 'volkswagen dasher' 'vw dasher' 'vw rabbit' 'volkswagen rabbit'\n",
      " 'volkswagen rabbit custom' 'volvo 145e (sw)' 'volvo 144ea' 'volvo 244dl'\n",
      " 'volvo 245' 'volvo 264gl' 'volvo diesel' 'volvo 246']\n",
      "\n",
      "data unik dari fueltype adalah :\n",
      "['gas' 'diesel']\n",
      "\n",
      "data unik dari aspiration adalah :\n",
      "['std' 'turbo']\n",
      "\n",
      "data unik dari doornumber adalah :\n",
      "['two' 'four']\n",
      "\n",
      "data unik dari carbody adalah :\n",
      "['convertible' 'hatchback' 'sedan' 'wagon' 'hardtop']\n",
      "\n",
      "data unik dari drivewheel adalah :\n",
      "['rwd' 'fwd' '4wd']\n",
      "\n",
      "data unik dari enginelocation adalah :\n",
      "['front' 'rear']\n",
      "\n",
      "data unik dari enginetype adalah :\n",
      "['dohc' 'ohcv' 'ohc' 'l' 'rotor' 'ohcf' 'dohcv']\n",
      "\n",
      "data unik dari cylindernumber adalah :\n",
      "['four' 'six' 'five' 'three' 'twelve' 'two' 'eight']\n",
      "\n",
      "data unik dari fuelsystem adalah :\n",
      "['mpfi' '2bbl' 'mfi' '1bbl' 'spfi' '4bbl' 'idi' 'spdi']\n",
      "\n"
     ]
    }
   ],
   "source": [
    "for i in range(len(categorical_data)):\n",
    "    print(\"data unik dari {} adalah :\\n{}\\n\".format(categorical_data[i], data[categorical_data[i]].unique()))"
   ]
  },
  {
   "cell_type": "markdown",
   "metadata": {},
   "source": [
    "Untuk dapat mengetahui pengaruh dari brand, maka kolom `CarName` akan dirubah berdasarkan kata pertama dari kolom tersebut yang merupakan sebuah brand."
   ]
  },
  {
   "cell_type": "code",
   "execution_count": 9,
   "metadata": {},
   "outputs": [],
   "source": [
    "# membuat kolom baru untuk brand\n",
    "data['Brand'] = data['CarName'].apply(lambda x : x.split()[0])"
   ]
  },
  {
   "cell_type": "code",
   "execution_count": 10,
   "metadata": {},
   "outputs": [
    {
     "data": {
      "text/plain": [
       "array(['alfa-romero', 'audi', 'bmw', 'chevrolet', 'dodge', 'honda',\n",
       "       'isuzu', 'jaguar', 'maxda', 'mazda', 'buick', 'mercury',\n",
       "       'mitsubishi', 'Nissan', 'nissan', 'peugeot', 'plymouth', 'porsche',\n",
       "       'porcshce', 'renault', 'saab', 'subaru', 'toyota', 'toyouta',\n",
       "       'vokswagen', 'volkswagen', 'vw', 'volvo'], dtype=object)"
      ]
     },
     "execution_count": 10,
     "metadata": {},
     "output_type": "execute_result"
    }
   ],
   "source": [
    "data['Brand'].unique()"
   ]
  },
  {
   "cell_type": "markdown",
   "metadata": {},
   "source": [
    "Terdapat kesalahan ketik pada nama brand."
   ]
  },
  {
   "cell_type": "code",
   "execution_count": 11,
   "metadata": {},
   "outputs": [],
   "source": [
    "# rename brand\n",
    "data['Brand'] = data['Brand'].replace({'maxda': 'mazda',\n",
    "                                    'Nissan': 'nissan',\n",
    "                                    'porcshce': 'porsche',\n",
    "                                    'toyouta': 'toyota',\n",
    "                                    'vokswagen': 'volkswagen',\n",
    "                                    'vw': 'volkswagen'})"
   ]
  },
  {
   "cell_type": "code",
   "execution_count": 12,
   "metadata": {},
   "outputs": [
    {
     "data": {
      "text/plain": [
       "array(['alfa-romero', 'audi', 'bmw', 'chevrolet', 'dodge', 'honda',\n",
       "       'isuzu', 'jaguar', 'mazda', 'buick', 'mercury', 'mitsubishi',\n",
       "       'nissan', 'peugeot', 'plymouth', 'porsche', 'renault', 'saab',\n",
       "       'subaru', 'toyota', 'volkswagen', 'volvo'], dtype=object)"
      ]
     },
     "execution_count": 12,
     "metadata": {},
     "output_type": "execute_result"
    }
   ],
   "source": [
    "data['Brand'].unique()"
   ]
  },
  {
   "cell_type": "markdown",
   "metadata": {},
   "source": [
    "Nama brand sudah benar."
   ]
  },
  {
   "cell_type": "code",
   "execution_count": 13,
   "metadata": {},
   "outputs": [],
   "source": [
    "# Convert data yang memiliki 2 value menjadi 1 dan 0\n",
    "\n",
    "data['fueltype'] = data['fueltype'].map({'gas': 1, 'diesel': 0})\n",
    "data['aspiration'] = data['aspiration'].map({'std': 1, 'turbo': 0})\n",
    "data['doornumber'] = data['doornumber'].map({'two': 2, 'four': 4})\n",
    "data['enginelocation'] = data['enginelocation'].map({'front': 1, 'rear': 0})"
   ]
  },
  {
   "cell_type": "code",
   "execution_count": 14,
   "metadata": {},
   "outputs": [],
   "source": [
    "# Convert `symboling` menjadi categorical value, karena numeric value tidak memiliki bobot (arti)\n",
    "\n",
    "def replace_values(a,b):\n",
    "    data.symboling.replace(a,b,inplace=True)\n",
    "\n",
    "replace_values(3,'Very_Risky')\n",
    "replace_values(2,'Moderately_Risky')\n",
    "replace_values(1,'Neutral')\n",
    "replace_values(0,'Safe')\n",
    "replace_values(-1,'Moderately_Safe')\n",
    "replace_values(-2,'Very_Safe')"
   ]
  },
  {
   "cell_type": "code",
   "execution_count": 15,
   "metadata": {},
   "outputs": [],
   "source": [
    "# convert `cylindernumber` ke numerical\n",
    "\n",
    "def replace_values(a,b):\n",
    "    data.cylindernumber.replace(a,b,inplace=True)\n",
    "\n",
    "replace_values('four', 4)\n",
    "replace_values('six', 6)\n",
    "replace_values('five', 5)\n",
    "replace_values('three', 3)\n",
    "replace_values('twelve', 12)\n",
    "replace_values('two', 2)\n",
    "replace_values('eight', 8)\n"
   ]
  },
  {
   "cell_type": "code",
   "execution_count": 16,
   "metadata": {},
   "outputs": [
    {
     "data": {
      "image/png": "[encoded data removed]",
      "text/plain": [
       "<Figure size 432x288 with 2 Axes>"
      ]
     },
     "metadata": {
      "needs_background": "light"
     },
     "output_type": "display_data"
    }
   ],
   "source": [
    "# histogram & outlier `price`\n",
    "\n",
    "sns.color_palette(\"pastel\")\n",
    "fig, (ax_box, ax_hist) = plt.subplots(2, sharex = True, gridspec_kw = {'height_ratios':(.2, .8)})\n",
    "    \n",
    "sns.boxplot(data = data, x = 'price', ax = ax_box)\n",
    "sns.histplot(data = data, x = 'price', ax = ax_hist, kde=True)\n",
    "    \n",
    "ax_box.set(xlabel = '')\n",
    "ax_hist.set(ylabel = 'Histogram (Count)')\n",
    "    \n",
    "plt.show()"
   ]
  },
  {
   "cell_type": "markdown",
   "metadata": {},
   "source": [
    "Distribusi harga memiliki plot right skewed."
   ]
  },
  {
   "cell_type": "code",
   "execution_count": 17,
   "metadata": {},
   "outputs": [
    {
     "data": {
      "text/html": [
       "<div>\n",
       "<style scoped>\n",
       "    .dataframe tbody tr th:only-of-type {\n",
       "        vertical-align: middle;\n",
       "    }\n",
       "\n",
       "    .dataframe tbody tr th {\n",
       "        vertical-align: top;\n",
       "    }\n",
       "\n",
       "    .dataframe thead th {\n",
       "        text-align: right;\n",
       "    }\n",
       "</style>\n",
       "<table border=\"1\" class=\"dataframe\">\n",
       "  <thead>\n",
       "    <tr style=\"text-align: right;\">\n",
       "      <th></th>\n",
       "      <th>car_ID</th>\n",
       "      <th>symboling</th>\n",
       "      <th>CarName</th>\n",
       "      <th>fueltype</th>\n",
       "      <th>aspiration</th>\n",
       "      <th>doornumber</th>\n",
       "      <th>carbody</th>\n",
       "      <th>drivewheel</th>\n",
       "      <th>enginelocation</th>\n",
       "      <th>wheelbase</th>\n",
       "      <th>...</th>\n",
       "      <th>fuelsystem</th>\n",
       "      <th>boreratio</th>\n",
       "      <th>stroke</th>\n",
       "      <th>compressionratio</th>\n",
       "      <th>horsepower</th>\n",
       "      <th>peakrpm</th>\n",
       "      <th>citympg</th>\n",
       "      <th>highwaympg</th>\n",
       "      <th>price</th>\n",
       "      <th>Brand</th>\n",
       "    </tr>\n",
       "  </thead>\n",
       "  <tbody>\n",
       "    <tr>\n",
       "      <th>15</th>\n",
       "      <td>16</td>\n",
       "      <td>Safe</td>\n",
       "      <td>bmw x4</td>\n",
       "      <td>1</td>\n",
       "      <td>1</td>\n",
       "      <td>4</td>\n",
       "      <td>sedan</td>\n",
       "      <td>rwd</td>\n",
       "      <td>1</td>\n",
       "      <td>103.5</td>\n",
       "      <td>...</td>\n",
       "      <td>mpfi</td>\n",
       "      <td>3.62</td>\n",
       "      <td>3.39</td>\n",
       "      <td>8.0</td>\n",
       "      <td>182</td>\n",
       "      <td>5400</td>\n",
       "      <td>16</td>\n",
       "      <td>22</td>\n",
       "      <td>30760.0</td>\n",
       "      <td>bmw</td>\n",
       "    </tr>\n",
       "    <tr>\n",
       "      <th>129</th>\n",
       "      <td>130</td>\n",
       "      <td>Neutral</td>\n",
       "      <td>porsche cayenne</td>\n",
       "      <td>1</td>\n",
       "      <td>1</td>\n",
       "      <td>2</td>\n",
       "      <td>hatchback</td>\n",
       "      <td>rwd</td>\n",
       "      <td>1</td>\n",
       "      <td>98.4</td>\n",
       "      <td>...</td>\n",
       "      <td>mpfi</td>\n",
       "      <td>3.94</td>\n",
       "      <td>3.11</td>\n",
       "      <td>10.0</td>\n",
       "      <td>288</td>\n",
       "      <td>5750</td>\n",
       "      <td>17</td>\n",
       "      <td>28</td>\n",
       "      <td>31400.5</td>\n",
       "      <td>porsche</td>\n",
       "    </tr>\n",
       "    <tr>\n",
       "      <th>70</th>\n",
       "      <td>71</td>\n",
       "      <td>Moderately_Safe</td>\n",
       "      <td>buick skyhawk</td>\n",
       "      <td>0</td>\n",
       "      <td>0</td>\n",
       "      <td>4</td>\n",
       "      <td>sedan</td>\n",
       "      <td>rwd</td>\n",
       "      <td>1</td>\n",
       "      <td>115.6</td>\n",
       "      <td>...</td>\n",
       "      <td>idi</td>\n",
       "      <td>3.58</td>\n",
       "      <td>3.64</td>\n",
       "      <td>21.5</td>\n",
       "      <td>123</td>\n",
       "      <td>4350</td>\n",
       "      <td>22</td>\n",
       "      <td>25</td>\n",
       "      <td>31600.0</td>\n",
       "      <td>buick</td>\n",
       "    </tr>\n",
       "    <tr>\n",
       "      <th>47</th>\n",
       "      <td>48</td>\n",
       "      <td>Safe</td>\n",
       "      <td>jaguar xj</td>\n",
       "      <td>1</td>\n",
       "      <td>1</td>\n",
       "      <td>4</td>\n",
       "      <td>sedan</td>\n",
       "      <td>rwd</td>\n",
       "      <td>1</td>\n",
       "      <td>113.0</td>\n",
       "      <td>...</td>\n",
       "      <td>mpfi</td>\n",
       "      <td>3.63</td>\n",
       "      <td>4.17</td>\n",
       "      <td>8.1</td>\n",
       "      <td>176</td>\n",
       "      <td>4750</td>\n",
       "      <td>15</td>\n",
       "      <td>19</td>\n",
       "      <td>32250.0</td>\n",
       "      <td>jaguar</td>\n",
       "    </tr>\n",
       "    <tr>\n",
       "      <th>126</th>\n",
       "      <td>127</td>\n",
       "      <td>Very_Risky</td>\n",
       "      <td>porcshce panamera</td>\n",
       "      <td>1</td>\n",
       "      <td>1</td>\n",
       "      <td>2</td>\n",
       "      <td>hardtop</td>\n",
       "      <td>rwd</td>\n",
       "      <td>0</td>\n",
       "      <td>89.5</td>\n",
       "      <td>...</td>\n",
       "      <td>mpfi</td>\n",
       "      <td>3.74</td>\n",
       "      <td>2.90</td>\n",
       "      <td>9.5</td>\n",
       "      <td>207</td>\n",
       "      <td>5900</td>\n",
       "      <td>17</td>\n",
       "      <td>25</td>\n",
       "      <td>32528.0</td>\n",
       "      <td>porsche</td>\n",
       "    </tr>\n",
       "    <tr>\n",
       "      <th>127</th>\n",
       "      <td>128</td>\n",
       "      <td>Very_Risky</td>\n",
       "      <td>porsche cayenne</td>\n",
       "      <td>1</td>\n",
       "      <td>1</td>\n",
       "      <td>2</td>\n",
       "      <td>hardtop</td>\n",
       "      <td>rwd</td>\n",
       "      <td>0</td>\n",
       "      <td>89.5</td>\n",
       "      <td>...</td>\n",
       "      <td>mpfi</td>\n",
       "      <td>3.74</td>\n",
       "      <td>2.90</td>\n",
       "      <td>9.5</td>\n",
       "      <td>207</td>\n",
       "      <td>5900</td>\n",
       "      <td>17</td>\n",
       "      <td>25</td>\n",
       "      <td>34028.0</td>\n",
       "      <td>porsche</td>\n",
       "    </tr>\n",
       "    <tr>\n",
       "      <th>71</th>\n",
       "      <td>72</td>\n",
       "      <td>Moderately_Safe</td>\n",
       "      <td>buick opel isuzu deluxe</td>\n",
       "      <td>1</td>\n",
       "      <td>1</td>\n",
       "      <td>4</td>\n",
       "      <td>sedan</td>\n",
       "      <td>rwd</td>\n",
       "      <td>1</td>\n",
       "      <td>115.6</td>\n",
       "      <td>...</td>\n",
       "      <td>mpfi</td>\n",
       "      <td>3.46</td>\n",
       "      <td>3.10</td>\n",
       "      <td>8.3</td>\n",
       "      <td>155</td>\n",
       "      <td>4750</td>\n",
       "      <td>16</td>\n",
       "      <td>18</td>\n",
       "      <td>34184.0</td>\n",
       "      <td>buick</td>\n",
       "    </tr>\n",
       "    <tr>\n",
       "      <th>72</th>\n",
       "      <td>73</td>\n",
       "      <td>Very_Risky</td>\n",
       "      <td>buick skylark</td>\n",
       "      <td>1</td>\n",
       "      <td>1</td>\n",
       "      <td>2</td>\n",
       "      <td>convertible</td>\n",
       "      <td>rwd</td>\n",
       "      <td>1</td>\n",
       "      <td>96.6</td>\n",
       "      <td>...</td>\n",
       "      <td>mpfi</td>\n",
       "      <td>3.46</td>\n",
       "      <td>3.10</td>\n",
       "      <td>8.3</td>\n",
       "      <td>155</td>\n",
       "      <td>4750</td>\n",
       "      <td>16</td>\n",
       "      <td>18</td>\n",
       "      <td>35056.0</td>\n",
       "      <td>buick</td>\n",
       "    </tr>\n",
       "    <tr>\n",
       "      <th>48</th>\n",
       "      <td>49</td>\n",
       "      <td>Safe</td>\n",
       "      <td>jaguar xf</td>\n",
       "      <td>1</td>\n",
       "      <td>1</td>\n",
       "      <td>4</td>\n",
       "      <td>sedan</td>\n",
       "      <td>rwd</td>\n",
       "      <td>1</td>\n",
       "      <td>113.0</td>\n",
       "      <td>...</td>\n",
       "      <td>mpfi</td>\n",
       "      <td>3.63</td>\n",
       "      <td>4.17</td>\n",
       "      <td>8.1</td>\n",
       "      <td>176</td>\n",
       "      <td>4750</td>\n",
       "      <td>15</td>\n",
       "      <td>19</td>\n",
       "      <td>35550.0</td>\n",
       "      <td>jaguar</td>\n",
       "    </tr>\n",
       "    <tr>\n",
       "      <th>49</th>\n",
       "      <td>50</td>\n",
       "      <td>Safe</td>\n",
       "      <td>jaguar xk</td>\n",
       "      <td>1</td>\n",
       "      <td>1</td>\n",
       "      <td>2</td>\n",
       "      <td>sedan</td>\n",
       "      <td>rwd</td>\n",
       "      <td>1</td>\n",
       "      <td>102.0</td>\n",
       "      <td>...</td>\n",
       "      <td>mpfi</td>\n",
       "      <td>3.54</td>\n",
       "      <td>2.76</td>\n",
       "      <td>11.5</td>\n",
       "      <td>262</td>\n",
       "      <td>5000</td>\n",
       "      <td>13</td>\n",
       "      <td>17</td>\n",
       "      <td>36000.0</td>\n",
       "      <td>jaguar</td>\n",
       "    </tr>\n",
       "    <tr>\n",
       "      <th>17</th>\n",
       "      <td>18</td>\n",
       "      <td>Safe</td>\n",
       "      <td>bmw x3</td>\n",
       "      <td>1</td>\n",
       "      <td>1</td>\n",
       "      <td>4</td>\n",
       "      <td>sedan</td>\n",
       "      <td>rwd</td>\n",
       "      <td>1</td>\n",
       "      <td>110.0</td>\n",
       "      <td>...</td>\n",
       "      <td>mpfi</td>\n",
       "      <td>3.62</td>\n",
       "      <td>3.39</td>\n",
       "      <td>8.0</td>\n",
       "      <td>182</td>\n",
       "      <td>5400</td>\n",
       "      <td>15</td>\n",
       "      <td>20</td>\n",
       "      <td>36880.0</td>\n",
       "      <td>bmw</td>\n",
       "    </tr>\n",
       "    <tr>\n",
       "      <th>128</th>\n",
       "      <td>129</td>\n",
       "      <td>Very_Risky</td>\n",
       "      <td>porsche boxter</td>\n",
       "      <td>1</td>\n",
       "      <td>1</td>\n",
       "      <td>2</td>\n",
       "      <td>convertible</td>\n",
       "      <td>rwd</td>\n",
       "      <td>0</td>\n",
       "      <td>89.5</td>\n",
       "      <td>...</td>\n",
       "      <td>mpfi</td>\n",
       "      <td>3.74</td>\n",
       "      <td>2.90</td>\n",
       "      <td>9.5</td>\n",
       "      <td>207</td>\n",
       "      <td>5900</td>\n",
       "      <td>17</td>\n",
       "      <td>25</td>\n",
       "      <td>37028.0</td>\n",
       "      <td>porsche</td>\n",
       "    </tr>\n",
       "    <tr>\n",
       "      <th>73</th>\n",
       "      <td>74</td>\n",
       "      <td>Safe</td>\n",
       "      <td>buick century special</td>\n",
       "      <td>1</td>\n",
       "      <td>1</td>\n",
       "      <td>4</td>\n",
       "      <td>sedan</td>\n",
       "      <td>rwd</td>\n",
       "      <td>1</td>\n",
       "      <td>120.9</td>\n",
       "      <td>...</td>\n",
       "      <td>mpfi</td>\n",
       "      <td>3.80</td>\n",
       "      <td>3.35</td>\n",
       "      <td>8.0</td>\n",
       "      <td>184</td>\n",
       "      <td>4500</td>\n",
       "      <td>14</td>\n",
       "      <td>16</td>\n",
       "      <td>40960.0</td>\n",
       "      <td>buick</td>\n",
       "    </tr>\n",
       "    <tr>\n",
       "      <th>16</th>\n",
       "      <td>17</td>\n",
       "      <td>Safe</td>\n",
       "      <td>bmw x5</td>\n",
       "      <td>1</td>\n",
       "      <td>1</td>\n",
       "      <td>2</td>\n",
       "      <td>sedan</td>\n",
       "      <td>rwd</td>\n",
       "      <td>1</td>\n",
       "      <td>103.5</td>\n",
       "      <td>...</td>\n",
       "      <td>mpfi</td>\n",
       "      <td>3.62</td>\n",
       "      <td>3.39</td>\n",
       "      <td>8.0</td>\n",
       "      <td>182</td>\n",
       "      <td>5400</td>\n",
       "      <td>16</td>\n",
       "      <td>22</td>\n",
       "      <td>41315.0</td>\n",
       "      <td>bmw</td>\n",
       "    </tr>\n",
       "    <tr>\n",
       "      <th>74</th>\n",
       "      <td>75</td>\n",
       "      <td>Neutral</td>\n",
       "      <td>buick regal sport coupe (turbo)</td>\n",
       "      <td>1</td>\n",
       "      <td>1</td>\n",
       "      <td>2</td>\n",
       "      <td>hardtop</td>\n",
       "      <td>rwd</td>\n",
       "      <td>1</td>\n",
       "      <td>112.0</td>\n",
       "      <td>...</td>\n",
       "      <td>mpfi</td>\n",
       "      <td>3.80</td>\n",
       "      <td>3.35</td>\n",
       "      <td>8.0</td>\n",
       "      <td>184</td>\n",
       "      <td>4500</td>\n",
       "      <td>14</td>\n",
       "      <td>16</td>\n",
       "      <td>45400.0</td>\n",
       "      <td>buick</td>\n",
       "    </tr>\n",
       "  </tbody>\n",
       "</table>\n",
       "<p>15 rows × 27 columns</p>\n",
       "</div>"
      ],
      "text/plain": [
       "     car_ID        symboling                          CarName  fueltype  \\\n",
       "15       16             Safe                           bmw x4         1   \n",
       "129     130          Neutral                  porsche cayenne         1   \n",
       "70       71  Moderately_Safe                    buick skyhawk         0   \n",
       "47       48             Safe                        jaguar xj         1   \n",
       "126     127       Very_Risky                porcshce panamera         1   \n",
       "127     128       Very_Risky                  porsche cayenne         1   \n",
       "71       72  Moderately_Safe          buick opel isuzu deluxe         1   \n",
       "72       73       Very_Risky                    buick skylark         1   \n",
       "48       49             Safe                        jaguar xf         1   \n",
       "49       50             Safe                        jaguar xk         1   \n",
       "17       18             Safe                           bmw x3         1   \n",
       "128     129       Very_Risky                   porsche boxter         1   \n",
       "73       74             Safe            buick century special         1   \n",
       "16       17             Safe                           bmw x5         1   \n",
       "74       75          Neutral  buick regal sport coupe (turbo)         1   \n",
       "\n",
       "     aspiration  doornumber      carbody drivewheel  enginelocation  \\\n",
       "15            1           4        sedan        rwd               1   \n",
       "129           1           2    hatchback        rwd               1   \n",
       "70            0           4        sedan        rwd               1   \n",
       "47            1           4        sedan        rwd               1   \n",
       "126           1           2      hardtop        rwd               0   \n",
       "127           1           2      hardtop        rwd               0   \n",
       "71            1           4        sedan        rwd               1   \n",
       "72            1           2  convertible        rwd               1   \n",
       "48            1           4        sedan        rwd               1   \n",
       "49            1           2        sedan        rwd               1   \n",
       "17            1           4        sedan        rwd               1   \n",
       "128           1           2  convertible        rwd               0   \n",
       "73            1           4        sedan        rwd               1   \n",
       "16            1           2        sedan        rwd               1   \n",
       "74            1           2      hardtop        rwd               1   \n",
       "\n",
       "     wheelbase  ...  fuelsystem  boreratio  stroke  compressionratio  \\\n",
       "15       103.5  ...        mpfi       3.62    3.39               8.0   \n",
       "129       98.4  ...        mpfi       3.94    3.11              10.0   \n",
       "70       115.6  ...         idi       3.58    3.64              21.5   \n",
       "47       113.0  ...        mpfi       3.63    4.17               8.1   \n",
       "126       89.5  ...        mpfi       3.74    2.90               9.5   \n",
       "127       89.5  ...        mpfi       3.74    2.90               9.5   \n",
       "71       115.6  ...        mpfi       3.46    3.10               8.3   \n",
       "72        96.6  ...        mpfi       3.46    3.10               8.3   \n",
       "48       113.0  ...        mpfi       3.63    4.17               8.1   \n",
       "49       102.0  ...        mpfi       3.54    2.76              11.5   \n",
       "17       110.0  ...        mpfi       3.62    3.39               8.0   \n",
       "128       89.5  ...        mpfi       3.74    2.90               9.5   \n",
       "73       120.9  ...        mpfi       3.80    3.35               8.0   \n",
       "16       103.5  ...        mpfi       3.62    3.39               8.0   \n",
       "74       112.0  ...        mpfi       3.80    3.35               8.0   \n",
       "\n",
       "    horsepower  peakrpm  citympg highwaympg    price    Brand  \n",
       "15         182     5400       16         22  30760.0      bmw  \n",
       "129        288     5750       17         28  31400.5  porsche  \n",
       "70         123     4350       22         25  31600.0    buick  \n",
       "47         176     4750       15         19  32250.0   jaguar  \n",
       "126        207     5900       17         25  32528.0  porsche  \n",
       "127        207     5900       17         25  34028.0  porsche  \n",
       "71         155     4750       16         18  34184.0    buick  \n",
       "72         155     4750       16         18  35056.0    buick  \n",
       "48         176     4750       15         19  35550.0   jaguar  \n",
       "49         262     5000       13         17  36000.0   jaguar  \n",
       "17         182     5400       15         20  36880.0      bmw  \n",
       "128        207     5900       17         25  37028.0  porsche  \n",
       "73         184     4500       14         16  40960.0    buick  \n",
       "16         182     5400       16         22  41315.0      bmw  \n",
       "74         184     4500       14         16  45400.0    buick  \n",
       "\n",
       "[15 rows x 27 columns]"
      ]
     },
     "execution_count": 17,
     "metadata": {},
     "output_type": "execute_result"
    }
   ],
   "source": [
    "q1 = data['price'].quantile(0.25)\n",
    "q3 = data['price'].quantile(0.75)\n",
    "\n",
    "iqr = q3-q1 #Interquartile range\n",
    "fence_low  = q1-1.5*iqr\n",
    "fence_high = q3+1.5*iqr\n",
    "\n",
    "data.loc[(data['price'] < fence_low) | (data['price'] > fence_high)].sort_values('price')"
   ]
  },
  {
   "cell_type": "markdown",
   "metadata": {},
   "source": [
    "Data outlier bukan data yang janggal. Berdasarkan `CarName`, data yang tersebar pada range 5.000 - 15.000, sehingga data yang lebih mahal dianggap outlier."
   ]
  },
  {
   "cell_type": "code",
   "execution_count": 18,
   "metadata": {},
   "outputs": [],
   "source": [
    "# drop `car_ID`\n",
    "data = data.drop(['car_ID'],axis=1)"
   ]
  },
  {
   "cell_type": "code",
   "execution_count": 19,
   "metadata": {},
   "outputs": [
    {
     "data": {
      "image/png": "[encoded data removed]",
      "text/plain": [
       "<Figure size 432x288 with 1 Axes>"
      ]
     },
     "metadata": {
      "needs_background": "light"
     },
     "output_type": "display_data"
    }
   ],
   "source": [
    "# grafik `Brand` vs mean `price`\n",
    "data.groupby(['Brand'])['price'].mean().sort_values(ascending = False).plot(kind = 'bar')\n",
    "plt.show()"
   ]
  },
  {
   "cell_type": "markdown",
   "metadata": {},
   "source": [
    "jaguar, buick, dan porsche memiliki harga rata-rata tertinggi."
   ]
  },
  {
   "cell_type": "code",
   "execution_count": 20,
   "metadata": {},
   "outputs": [
    {
     "data": {
      "image/png": "[encoded data removed]",
      "text/plain": [
       "<Figure size 432x288 with 1 Axes>"
      ]
     },
     "metadata": {
      "needs_background": "light"
     },
     "output_type": "display_data"
    }
   ],
   "source": [
    "# grafik `Brand` vs mean `price`\n",
    "data['Brand'].value_counts().plot(kind = 'bar')\n",
    "plt.show()"
   ]
  },
  {
   "cell_type": "markdown",
   "metadata": {},
   "source": [
    "toyota merupakan mobil paling favorit."
   ]
  },
  {
   "cell_type": "code",
   "execution_count": 21,
   "metadata": {},
   "outputs": [
    {
     "data": {
      "image/png": "[encoded data removed]",
      "text/plain": [
       "<Figure size 2520x576 with 3 Axes>"
      ]
     },
     "metadata": {
      "needs_background": "light"
     },
     "output_type": "display_data"
    }
   ],
   "source": [
    "### categorical - symboling\n",
    "\n",
    "fig, (ax1, ax2, ax3) = plt.subplots(1,3, figsize = (35,8), sharey = False, sharex = False)\n",
    "\n",
    "# plots\n",
    "sns.histplot(data = data, x = 'symboling', ax = ax1)\n",
    "data.groupby(['symboling'])['price'].mean().sort_values(ascending = False).plot(kind = 'bar', ax = ax2)\n",
    "sns.boxplot(data = data, x = 'symboling', y = 'price', ax = ax3)\n",
    "\n",
    "ax1.set_xlabel('')\n",
    "ax2.set_xlabel('')\n",
    "ax3.set_xlabel('')\n",
    "ax1.set_title('histogram')\n",
    "ax2.set_title('average')\n",
    "ax3.set_title('outlier')\n",
    "\n",
    "fig.suptitle('symboling', fontsize = 'xx-large')\n",
    "plt.show()"
   ]
  },
  {
   "cell_type": "markdown",
   "metadata": {},
   "source": [
    "Faktor `symboling` mobil yang paling banyak digunakan adalah tingkat safe.\n",
    "Tingkat Moderately_Safe dan Very_Risky memiliki harga tertinggi.\n",
    "Harga `symboling` Moderately_Safe lebih tinggi dibandingkan dengan yang lainnya."
   ]
  },
  {
   "cell_type": "code",
   "execution_count": 22,
   "metadata": {},
   "outputs": [
    {
     "data": {
      "image/png": "[encoded data removed]",
      "text/plain": [
       "<Figure size 1800x576 with 3 Axes>"
      ]
     },
     "metadata": {
      "needs_background": "light"
     },
     "output_type": "display_data"
    }
   ],
   "source": [
    "### categorical - carbody\n",
    "\n",
    "fig, (ax1, ax2, ax3) = plt.subplots(1,3, figsize = (25,8), sharey = False, sharex = False)\n",
    "\n",
    "# plots\n",
    "sns.histplot(data = data, x = 'carbody', ax = ax1)\n",
    "data.groupby(['carbody'])['price'].mean().sort_values(ascending = False).plot(kind = 'bar', ax = ax2)\n",
    "sns.boxplot(data = data, x = 'carbody', y = 'price', ax = ax3)\n",
    "\n",
    "ax1.set_xlabel('')\n",
    "ax2.set_xlabel('')\n",
    "ax3.set_xlabel('')\n",
    "ax1.set_title('histogram')\n",
    "ax2.set_title('average')\n",
    "ax3.set_title('outlier')\n",
    "\n",
    "fig.suptitle('carbody', fontsize = 'xx-large')\n",
    "plt.show()"
   ]
  },
  {
   "cell_type": "markdown",
   "metadata": {},
   "source": [
    "Sebagian besar `carbody` mobil adalah sedan dan hatchback.\n",
    "Mobil dengan `carbody` hardtop dan convertible memiliki harga tertinggi.\n",
    "Semua jenis `carbody` relatif lebih murah dibandingkan dengan `carbody` convertible."
   ]
  },
  {
   "cell_type": "code",
   "execution_count": 23,
   "metadata": {},
   "outputs": [
    {
     "data": {
      "image/png": "[encoded data removed]",
      "text/plain": [
       "<Figure size 1800x576 with 3 Axes>"
      ]
     },
     "metadata": {
      "needs_background": "light"
     },
     "output_type": "display_data"
    }
   ],
   "source": [
    "### categorical - drivewheel\n",
    "\n",
    "fig, (ax1, ax2, ax3) = plt.subplots(1,3, figsize = (25,8), sharey = False, sharex = False)\n",
    "\n",
    "# plots\n",
    "sns.histplot(data = data, x = 'drivewheel', ax = ax1)\n",
    "data.groupby(['drivewheel'])['price'].mean().sort_values(ascending = False).plot(kind = 'bar', ax = ax2)\n",
    "sns.boxplot(data = data, x = 'drivewheel', y = 'price', ax = ax3)\n",
    "\n",
    "ax1.set_xlabel('')\n",
    "ax2.set_xlabel('')\n",
    "ax3.set_xlabel('')\n",
    "ax1.set_title('histogram')\n",
    "ax2.set_title('average')\n",
    "ax3.set_title('outlier')\n",
    "\n",
    "fig.suptitle('drivewheel', fontsize = 'xx-large')\n",
    "plt.show()"
   ]
  },
  {
   "cell_type": "markdown",
   "metadata": {},
   "source": [
    "Sebagian besar `drivewheel` mobil merupakan fwd dan rwd.\n",
    "Mobil dengan `drivewheel` rwd memiliki harga tertinggi.\n",
    "Semua jenis `drivewheel` relatif lebih murah dibandingkan dengan `drivewheel` rwd."
   ]
  },
  {
   "cell_type": "code",
   "execution_count": 24,
   "metadata": {},
   "outputs": [
    {
     "data": {
      "image/png": "[encoded data removed]",
      "text/plain": [
       "<Figure size 1800x576 with 3 Axes>"
      ]
     },
     "metadata": {
      "needs_background": "light"
     },
     "output_type": "display_data"
    }
   ],
   "source": [
    "### categorical - enginetype\n",
    "\n",
    "fig, (ax1, ax2, ax3) = plt.subplots(1,3, figsize = (25,8), sharey = False, sharex = False)\n",
    "\n",
    "# plots\n",
    "sns.histplot(data = data, x = 'enginetype', ax = ax1)\n",
    "data.groupby(['enginetype'])['price'].mean().sort_values(ascending = False).plot(kind = 'bar', ax = ax2)\n",
    "sns.boxplot(data = data, x = 'enginetype', y = 'price', ax = ax3)\n",
    "\n",
    "ax1.set_xlabel('')\n",
    "ax2.set_xlabel('')\n",
    "ax3.set_xlabel('')\n",
    "ax1.set_title('histogram')\n",
    "ax2.set_title('average')\n",
    "ax3.set_title('outlier')\n",
    "\n",
    "fig.suptitle('enginetype', fontsize = 'xx-large')\n",
    "plt.show()"
   ]
  },
  {
   "cell_type": "markdown",
   "metadata": {},
   "source": [
    "Sebagian besar `enginetype` mobil merupakan ohc.\n",
    "Mobil dengan `enginetype` dohc memiliki harga tertinggi.\n",
    "`enginetype` ohcv termasuk mobil dengan kisaran harga yang lebih tinggi."
   ]
  },
  {
   "cell_type": "code",
   "execution_count": 25,
   "metadata": {},
   "outputs": [
    {
     "data": {
      "image/png": "[encoded data removed]",
      "text/plain": [
       "<Figure size 1800x576 with 3 Axes>"
      ]
     },
     "metadata": {
      "needs_background": "light"
     },
     "output_type": "display_data"
    }
   ],
   "source": [
    "### categorical - fuelsystem\n",
    "\n",
    "fig, (ax1, ax2, ax3) = plt.subplots(1,3, figsize = (25,8), sharey = False, sharex = False)\n",
    "\n",
    "# plots\n",
    "sns.histplot(data = data, x = 'fuelsystem', ax = ax1)\n",
    "data.groupby(['fuelsystem'])['price'].mean().sort_values(ascending = False).plot(kind = 'bar', ax = ax2)\n",
    "sns.boxplot(data = data, x = 'fuelsystem', y = 'price', ax = ax3)\n",
    "\n",
    "ax1.set_xlabel('')\n",
    "ax2.set_xlabel('')\n",
    "ax3.set_xlabel('')\n",
    "ax1.set_title('histogram')\n",
    "ax2.set_title('average')\n",
    "ax3.set_title('outlier')\n",
    "\n",
    "fig.suptitle('fuelsystem', fontsize = 'xx-large')\n",
    "plt.show()"
   ]
  },
  {
   "cell_type": "markdown",
   "metadata": {},
   "source": [
    "Sebagian besar `fuelsystem` mobil merupakan mpfi dan 2bbl.\n",
    "Mobil dengan `fuelsystem` mpfi memiliki harga tertinggi.\n",
    "Kisaran mobil dengan harga tinggi memiliki `fuelsystem` idi."
   ]
  },
  {
   "cell_type": "code",
   "execution_count": 26,
   "metadata": {},
   "outputs": [],
   "source": [
    "# data numerik\n",
    "numerical_column = data.select_dtypes(exclude=['object']).columns\n",
    "numerical_data = data[numerical_column]"
   ]
  },
  {
   "cell_type": "code",
   "execution_count": 27,
   "metadata": {},
   "outputs": [
    {
     "data": {
      "text/plain": [
       "<AxesSubplot:>"
      ]
     },
     "execution_count": 27,
     "metadata": {},
     "output_type": "execute_result"
    },
    {
     "data": {
      "image/png": "[encoded data removed]",
      "text/plain": [
       "<Figure size 1440x1080 with 2 Axes>"
      ]
     },
     "metadata": {
      "needs_background": "light"
     },
     "output_type": "display_data"
    }
   ],
   "source": [
    "plt.figure(figsize=(20, 15))\n",
    "mask = np.zeros_like(numerical_data.corr())\n",
    "mask[np.triu_indices_from(mask)] = True\n",
    "sns.heatmap(numerical_data.corr(), mask=mask, vmin=-1, vmax=1, annot = True, square=True)"
   ]
  },
  {
   "cell_type": "markdown",
   "metadata": {},
   "source": [
    "`wheelbase`, `carlength`, dan `boreratio` berkorelasi kuat secara positif dengan `price`.\n",
    "`carwidth`, `curbweight`, `cylindernumber`, `enginesize`, dan `horsepower` berkorelasi sangat kuat secara positif dengan `price`.\n",
    "`citympg` dan `highwaympg` berkorelasi sangat kuat secara negatif dengan `price`."
   ]
  },
  {
   "cell_type": "code",
   "execution_count": 28,
   "metadata": {},
   "outputs": [],
   "source": [
    "data_model = data.copy()"
   ]
  },
  {
   "cell_type": "code",
   "execution_count": 29,
   "metadata": {},
   "outputs": [],
   "source": [
    "data_model.drop(['fueltype', 'aspiration', 'enginelocation', 'carheight', 'stroke', 'compressionratio', 'peakrpm', 'doornumber', 'CarName'], axis=1, inplace=True)"
   ]
  },
  {
   "cell_type": "code",
   "execution_count": 30,
   "metadata": {},
   "outputs": [
    {
     "data": {
      "text/html": [
       "<div>\n",
       "<style scoped>\n",
       "    .dataframe tbody tr th:only-of-type {\n",
       "        vertical-align: middle;\n",
       "    }\n",
       "\n",
       "    .dataframe tbody tr th {\n",
       "        vertical-align: top;\n",
       "    }\n",
       "\n",
       "    .dataframe thead th {\n",
       "        text-align: right;\n",
       "    }\n",
       "</style>\n",
       "<table border=\"1\" class=\"dataframe\">\n",
       "  <thead>\n",
       "    <tr style=\"text-align: right;\">\n",
       "      <th></th>\n",
       "      <th>wheelbase</th>\n",
       "      <th>carlength</th>\n",
       "      <th>carwidth</th>\n",
       "      <th>curbweight</th>\n",
       "      <th>cylindernumber</th>\n",
       "      <th>enginesize</th>\n",
       "      <th>boreratio</th>\n",
       "      <th>horsepower</th>\n",
       "      <th>citympg</th>\n",
       "      <th>highwaympg</th>\n",
       "      <th>...</th>\n",
       "      <th>Brand_nissan</th>\n",
       "      <th>Brand_peugeot</th>\n",
       "      <th>Brand_plymouth</th>\n",
       "      <th>Brand_porsche</th>\n",
       "      <th>Brand_renault</th>\n",
       "      <th>Brand_saab</th>\n",
       "      <th>Brand_subaru</th>\n",
       "      <th>Brand_toyota</th>\n",
       "      <th>Brand_volkswagen</th>\n",
       "      <th>Brand_volvo</th>\n",
       "    </tr>\n",
       "  </thead>\n",
       "  <tbody>\n",
       "    <tr>\n",
       "      <th>0</th>\n",
       "      <td>88.6</td>\n",
       "      <td>168.8</td>\n",
       "      <td>64.1</td>\n",
       "      <td>2548</td>\n",
       "      <td>4</td>\n",
       "      <td>130</td>\n",
       "      <td>3.47</td>\n",
       "      <td>111</td>\n",
       "      <td>21</td>\n",
       "      <td>27</td>\n",
       "      <td>...</td>\n",
       "      <td>0</td>\n",
       "      <td>0</td>\n",
       "      <td>0</td>\n",
       "      <td>0</td>\n",
       "      <td>0</td>\n",
       "      <td>0</td>\n",
       "      <td>0</td>\n",
       "      <td>0</td>\n",
       "      <td>0</td>\n",
       "      <td>0</td>\n",
       "    </tr>\n",
       "    <tr>\n",
       "      <th>1</th>\n",
       "      <td>88.6</td>\n",
       "      <td>168.8</td>\n",
       "      <td>64.1</td>\n",
       "      <td>2548</td>\n",
       "      <td>4</td>\n",
       "      <td>130</td>\n",
       "      <td>3.47</td>\n",
       "      <td>111</td>\n",
       "      <td>21</td>\n",
       "      <td>27</td>\n",
       "      <td>...</td>\n",
       "      <td>0</td>\n",
       "      <td>0</td>\n",
       "      <td>0</td>\n",
       "      <td>0</td>\n",
       "      <td>0</td>\n",
       "      <td>0</td>\n",
       "      <td>0</td>\n",
       "      <td>0</td>\n",
       "      <td>0</td>\n",
       "      <td>0</td>\n",
       "    </tr>\n",
       "    <tr>\n",
       "      <th>2</th>\n",
       "      <td>94.5</td>\n",
       "      <td>171.2</td>\n",
       "      <td>65.5</td>\n",
       "      <td>2823</td>\n",
       "      <td>6</td>\n",
       "      <td>152</td>\n",
       "      <td>2.68</td>\n",
       "      <td>154</td>\n",
       "      <td>19</td>\n",
       "      <td>26</td>\n",
       "      <td>...</td>\n",
       "      <td>0</td>\n",
       "      <td>0</td>\n",
       "      <td>0</td>\n",
       "      <td>0</td>\n",
       "      <td>0</td>\n",
       "      <td>0</td>\n",
       "      <td>0</td>\n",
       "      <td>0</td>\n",
       "      <td>0</td>\n",
       "      <td>0</td>\n",
       "    </tr>\n",
       "    <tr>\n",
       "      <th>3</th>\n",
       "      <td>99.8</td>\n",
       "      <td>176.6</td>\n",
       "      <td>66.2</td>\n",
       "      <td>2337</td>\n",
       "      <td>4</td>\n",
       "      <td>109</td>\n",
       "      <td>3.19</td>\n",
       "      <td>102</td>\n",
       "      <td>24</td>\n",
       "      <td>30</td>\n",
       "      <td>...</td>\n",
       "      <td>0</td>\n",
       "      <td>0</td>\n",
       "      <td>0</td>\n",
       "      <td>0</td>\n",
       "      <td>0</td>\n",
       "      <td>0</td>\n",
       "      <td>0</td>\n",
       "      <td>0</td>\n",
       "      <td>0</td>\n",
       "      <td>0</td>\n",
       "    </tr>\n",
       "    <tr>\n",
       "      <th>4</th>\n",
       "      <td>99.4</td>\n",
       "      <td>176.6</td>\n",
       "      <td>66.4</td>\n",
       "      <td>2824</td>\n",
       "      <td>5</td>\n",
       "      <td>136</td>\n",
       "      <td>3.19</td>\n",
       "      <td>115</td>\n",
       "      <td>18</td>\n",
       "      <td>22</td>\n",
       "      <td>...</td>\n",
       "      <td>0</td>\n",
       "      <td>0</td>\n",
       "      <td>0</td>\n",
       "      <td>0</td>\n",
       "      <td>0</td>\n",
       "      <td>0</td>\n",
       "      <td>0</td>\n",
       "      <td>0</td>\n",
       "      <td>0</td>\n",
       "      <td>0</td>\n",
       "    </tr>\n",
       "  </tbody>\n",
       "</table>\n",
       "<p>5 rows × 62 columns</p>\n",
       "</div>"
      ],
      "text/plain": [
       "   wheelbase  carlength  carwidth  curbweight  cylindernumber  enginesize  \\\n",
       "0       88.6      168.8      64.1        2548               4         130   \n",
       "1       88.6      168.8      64.1        2548               4         130   \n",
       "2       94.5      171.2      65.5        2823               6         152   \n",
       "3       99.8      176.6      66.2        2337               4         109   \n",
       "4       99.4      176.6      66.4        2824               5         136   \n",
       "\n",
       "   boreratio  horsepower  citympg  highwaympg  ...  Brand_nissan  \\\n",
       "0       3.47         111       21          27  ...             0   \n",
       "1       3.47         111       21          27  ...             0   \n",
       "2       2.68         154       19          26  ...             0   \n",
       "3       3.19         102       24          30  ...             0   \n",
       "4       3.19         115       18          22  ...             0   \n",
       "\n",
       "   Brand_peugeot  Brand_plymouth  Brand_porsche  Brand_renault  Brand_saab  \\\n",
       "0              0               0              0              0           0   \n",
       "1              0               0              0              0           0   \n",
       "2              0               0              0              0           0   \n",
       "3              0               0              0              0           0   \n",
       "4              0               0              0              0           0   \n",
       "\n",
       "   Brand_subaru  Brand_toyota  Brand_volkswagen  Brand_volvo  \n",
       "0             0             0                 0            0  \n",
       "1             0             0                 0            0  \n",
       "2             0             0                 0            0  \n",
       "3             0             0                 0            0  \n",
       "4             0             0                 0            0  \n",
       "\n",
       "[5 rows x 62 columns]"
      ]
     },
     "execution_count": 30,
     "metadata": {},
     "output_type": "execute_result"
    }
   ],
   "source": [
    "data_encoding = pd.get_dummies(data_model)\n",
    "data_encoding.head()"
   ]
  },
  {
   "cell_type": "code",
   "execution_count": 31,
   "metadata": {},
   "outputs": [],
   "source": [
    "X = data_encoding.loc[:, data_encoding.columns != 'price']\n",
    "y = data_encoding['price']"
   ]
  },
  {
   "cell_type": "code",
   "execution_count": 32,
   "metadata": {},
   "outputs": [
    {
     "data": {
      "text/plain": [
       "Index(['wheelbase', 'carlength', 'carwidth', 'curbweight', 'cylindernumber',\n",
       "       'enginesize', 'boreratio', 'horsepower', 'citympg', 'highwaympg',\n",
       "       'symboling_Moderately_Risky', 'symboling_Moderately_Safe',\n",
       "       'symboling_Neutral', 'symboling_Safe', 'symboling_Very_Risky',\n",
       "       'symboling_Very_Safe', 'carbody_convertible', 'carbody_hardtop',\n",
       "       'carbody_hatchback', 'carbody_sedan', 'carbody_wagon', 'drivewheel_4wd',\n",
       "       'drivewheel_fwd', 'drivewheel_rwd', 'enginetype_dohc',\n",
       "       'enginetype_dohcv', 'enginetype_l', 'enginetype_ohc', 'enginetype_ohcf',\n",
       "       'enginetype_ohcv', 'enginetype_rotor', 'fuelsystem_1bbl',\n",
       "       'fuelsystem_2bbl', 'fuelsystem_4bbl', 'fuelsystem_idi',\n",
       "       'fuelsystem_mfi', 'fuelsystem_mpfi', 'fuelsystem_spdi',\n",
       "       'fuelsystem_spfi', 'Brand_alfa-romero', 'Brand_audi', 'Brand_bmw',\n",
       "       'Brand_buick', 'Brand_chevrolet', 'Brand_dodge', 'Brand_honda',\n",
       "       'Brand_isuzu', 'Brand_jaguar', 'Brand_mazda', 'Brand_mercury',\n",
       "       'Brand_mitsubishi', 'Brand_nissan', 'Brand_peugeot', 'Brand_plymouth',\n",
       "       'Brand_porsche', 'Brand_renault', 'Brand_saab', 'Brand_subaru',\n",
       "       'Brand_toyota', 'Brand_volkswagen', 'Brand_volvo'],\n",
       "      dtype='object')"
      ]
     },
     "execution_count": 32,
     "metadata": {},
     "output_type": "execute_result"
    }
   ],
   "source": [
    "X.columns"
   ]
  },
  {
   "cell_type": "code",
   "execution_count": 33,
   "metadata": {},
   "outputs": [],
   "source": [
    "# splitting X and y into training and testing sets\n",
    "from sklearn.model_selection import train_test_split\n",
    "X_train, X_test, y_train, y_test = train_test_split(X, y, test_size=0.4,\n",
    "                                                    random_state=1)"
   ]
  },
  {
   "cell_type": "code",
   "execution_count": 34,
   "metadata": {},
   "outputs": [
    {
     "name": "stdout",
     "output_type": "stream",
     "text": [
      "Coefficients:  [ 3.27469843e+02 -1.64707897e+02  9.44987112e+02  1.73884804e+00\n",
      " -4.29252597e+02  5.74459032e+01 -2.09616774e+03  3.64627236e+01\n",
      "  1.12026357e+02 -1.00887811e+02  1.66853635e+02 -1.32300106e+03\n",
      "  8.28281850e+02  1.17004636e+03  1.56787293e+02 -9.98968083e+02\n",
      "  2.59436982e+03 -4.14220317e+02 -8.63680866e+02 -3.55806101e+02\n",
      " -9.60662532e+02  4.97946380e+02 -4.07127337e+02 -9.08190422e+01\n",
      " -6.83493825e+02 -4.43823714e+03 -2.21810139e+03 -1.95740183e+03\n",
      "  9.52659308e+03 -1.55657437e+03  1.32721547e+03 -4.48461624e+03\n",
      "  2.41465461e+02  1.32721547e+03  2.75024568e+02  1.81898940e-12\n",
      " -2.73104010e+02  1.56263753e+03  1.35137722e+03  1.49404587e+03\n",
      "  1.06807410e+03  6.88405816e+03  8.68811021e+03 -2.77056948e+03\n",
      " -2.22248530e+03  1.74176198e+03 -7.78265756e+02  3.37339769e+03\n",
      " -1.48216802e+03 -2.06730009e+03 -2.96365014e+03 -2.13235474e+03\n",
      " -2.21810139e+03 -1.73793059e+03  6.35870645e+03 -5.48097373e+02\n",
      "  3.43143026e+03 -1.34860937e+04 -1.93159608e+03 -7.05412868e+02\n",
      "  2.00444084e+03]\n",
      "Intercept:  -57129.4833536472\n"
     ]
    }
   ],
   "source": [
    " # create linear regression object\n",
    "reg = linear_model.LinearRegression()\n",
    " \n",
    "# train the model using the training sets\n",
    "reg.fit(X_train, y_train)\n",
    " \n",
    "# regression coefficients\n",
    "print('Coefficients: ', reg.coef_)\n",
    "\n",
    "# regression intercept\n",
    "print('Intercept: ', reg.intercept_)\n"
   ]
  },
  {
   "cell_type": "code",
   "execution_count": 35,
   "metadata": {},
   "outputs": [
    {
     "name": "stdout",
     "output_type": "stream",
     "text": [
      "Variance score: 0.9030080861349946\n"
     ]
    },
    {
     "data": {
      "image/png": "[encoded data removed]",
      "text/plain": [
       "<Figure size 432x288 with 1 Axes>"
      ]
     },
     "metadata": {},
     "output_type": "display_data"
    }
   ],
   "source": [
    " # variance score: 1 means perfect prediction\n",
    "print('Variance score: {}'.format(reg.score(X_test, y_test)))\n",
    " \n",
    "# plot for residual error\n",
    " \n",
    "## setting plot style\n",
    "plt.style.use('fivethirtyeight')\n",
    " \n",
    "## plotting residual errors in training data\n",
    "plt.scatter(reg.predict(X_train), reg.predict(X_train) - y_train,\n",
    "            color = \"green\", s = 10, label = 'Train data')\n",
    " \n",
    "## plotting residual errors in test data\n",
    "plt.scatter(reg.predict(X_test), reg.predict(X_test) - y_test,\n",
    "            color = \"blue\", s = 10, label = 'Test data')\n",
    " \n",
    "## plotting line for zero residual error\n",
    "plt.hlines(y = 0, xmin = 0, xmax = 40000, linewidth = 2)\n",
    " \n",
    "## plotting legend\n",
    "plt.legend(loc = 'best')\n",
    " \n",
    "## plot title\n",
    "plt.title(\"Residual errors\")\n",
    " \n",
    "## method call for showing the plot\n",
    "plt.show()"
   ]
  },
  {
   "cell_type": "code",
   "execution_count": 36,
   "metadata": {},
   "outputs": [],
   "source": [
    "y_pred = reg.predict(X_test)"
   ]
  },
  {
   "cell_type": "code",
   "execution_count": 37,
   "metadata": {},
   "outputs": [
    {
     "data": {
      "text/plain": [
       "1761.427552947884"
      ]
     },
     "execution_count": 37,
     "metadata": {},
     "output_type": "execute_result"
    }
   ],
   "source": [
    "# MAE\n",
    "from sklearn.metrics import mean_absolute_error\n",
    "mean_absolute_error(y_test, y_pred)"
   ]
  },
  {
   "cell_type": "markdown",
   "metadata": {},
   "source": [
    "Berdasarkan MAE, nilai error `Price` dapat mencapai +- 1.761,428."
   ]
  },
  {
   "cell_type": "code",
   "execution_count": 38,
   "metadata": {},
   "outputs": [
    {
     "data": {
      "text/plain": [
       "2491.801583207311"
      ]
     },
     "execution_count": 38,
     "metadata": {},
     "output_type": "execute_result"
    }
   ],
   "source": [
    "# RMSE\n",
    "from sklearn.metrics import mean_squared_error\n",
    "mean_squared_error(y_test, y_pred, squared=False)"
   ]
  },
  {
   "cell_type": "markdown",
   "metadata": {},
   "source": [
    "Berdasarkan RMSE, nilai error `Price` dapat mencapai +- 2.491,802."
   ]
  },
  {
   "cell_type": "code",
   "execution_count": 39,
   "metadata": {},
   "outputs": [
    {
     "data": {
      "text/plain": [
       "0.9030080861349946"
      ]
     },
     "execution_count": 39,
     "metadata": {},
     "output_type": "execute_result"
    }
   ],
   "source": [
    "# R2\n",
    "\n",
    "from sklearn.metrics import r2_score\n",
    "r2_score(y_test, y_pred)"
   ]
  },
  {
   "cell_type": "markdown",
   "metadata": {},
   "source": [
    "Berdasarkan R2, korelasi linier antara input dengan target sebesar 0,903."
   ]
  },
  {
   "cell_type": "code",
   "execution_count": 40,
   "metadata": {},
   "outputs": [
    {
     "name": "stdout",
     "output_type": "stream",
     "text": [
      "Coefficients:  [ 1.70243804e+02 -6.05733864e+01  4.41210368e+02  2.15133430e+00\n",
      "  3.78728920e+02  5.25429613e+01 -1.73179459e+03  4.61856648e+01\n",
      "  3.66261084e+01 -2.93889636e+01 -4.53152268e+02 -3.49308825e+02\n",
      "  3.42665672e+02  2.05223224e+02  8.88836096e+02 -6.34263900e+02\n",
      "  2.37119146e+03  7.15795185e+02 -1.39382869e+03 -4.54199935e+02\n",
      " -1.23895801e+03 -1.07575170e+02 -3.99838114e+02  5.07413284e+02\n",
      " -8.73451100e+02 -2.09902564e+03 -8.06299411e+02  2.60963820e+01\n",
      "  3.43250982e+03 -9.70978682e+02  1.29114864e+03 -1.13916620e+03\n",
      " -2.99618093e+02  1.29114864e+03  7.68734309e+02  0.00000000e+00\n",
      " -2.90739390e+02 -4.98927112e+02  1.68567843e+02 -1.27989394e+02\n",
      "  1.40316300e+03  3.67531263e+03  5.80203973e+03 -7.70621965e+02\n",
      " -1.11453248e+03  1.20397449e+02 -5.67906529e+02 -1.03073598e+03\n",
      " -3.59948974e+02 -1.03552549e+03 -2.11075495e+03 -2.12674338e+03\n",
      " -8.06299411e+02 -1.23097464e+03  5.16467672e+03 -2.56162876e+02\n",
      "  1.90634942e+03 -3.86070291e+03 -2.09034304e+03 -7.32828237e+02\n",
      "  1.50131292e+02]\n",
      "Intercept:  -33955.789672253704\n"
     ]
    }
   ],
   "source": [
    "# ridge regression\n",
    "\n",
    "from sklearn.linear_model import Ridge\n",
    "model = Ridge()\n",
    "model.fit(X_train, y_train)\n",
    "\n",
    "# regression coefficients\n",
    "print('Coefficients: ', model.coef_)\n",
    "\n",
    "# regression intercept\n",
    "print('Intercept: ', model.intercept_)"
   ]
  },
  {
   "cell_type": "code",
   "execution_count": 41,
   "metadata": {},
   "outputs": [
    {
     "name": "stdout",
     "output_type": "stream",
     "text": [
      "Variance score: 0.8992967786170083\n"
     ]
    },
    {
     "data": {
      "image/png": "[encoded data removed]",
      "text/plain": [
       "<Figure size 432x288 with 1 Axes>"
      ]
     },
     "metadata": {},
     "output_type": "display_data"
    }
   ],
   "source": [
    " # variance score: 1 means perfect prediction\n",
    "print('Variance score: {}'.format(model.score(X_test, y_test)))\n",
    " \n",
    "# plot for residual error\n",
    " \n",
    "## setting plot style\n",
    "plt.style.use('fivethirtyeight')\n",
    " \n",
    "## plotting residual errors in training data\n",
    "plt.scatter(model.predict(X_train), model.predict(X_train) - y_train,\n",
    "            color = \"green\", s = 10, label = 'Train data')\n",
    " \n",
    "## plotting residual errors in test data\n",
    "plt.scatter(model.predict(X_test), model.predict(X_test) - y_test,\n",
    "            color = \"blue\", s = 10, label = 'Test data')\n",
    " \n",
    "## plotting line for zero residual error\n",
    "plt.hlines(y = 0, xmin = 0, xmax = 40000, linewidth = 2)\n",
    " \n",
    "## plotting legend\n",
    "plt.legend(loc = 'best')\n",
    " \n",
    "## plot title\n",
    "plt.title(\"Residual errors\")\n",
    " \n",
    "## method call for showing the plot\n",
    "plt.show()"
   ]
  },
  {
   "cell_type": "code",
   "execution_count": 42,
   "metadata": {},
   "outputs": [],
   "source": [
    "y_pred = model.predict(X_test)"
   ]
  },
  {
   "cell_type": "code",
   "execution_count": 43,
   "metadata": {},
   "outputs": [
    {
     "data": {
      "text/plain": [
       "1699.4189736105063"
      ]
     },
     "execution_count": 43,
     "metadata": {},
     "output_type": "execute_result"
    }
   ],
   "source": [
    "# MAE\n",
    "from sklearn.metrics import mean_absolute_error\n",
    "mean_absolute_error(y_test, y_pred)"
   ]
  },
  {
   "cell_type": "markdown",
   "metadata": {},
   "source": [
    "Berdasarkan MAE, nilai error `Price` dapat mencapai +- 1.699,419."
   ]
  },
  {
   "cell_type": "code",
   "execution_count": 44,
   "metadata": {},
   "outputs": [
    {
     "data": {
      "text/plain": [
       "2539.0273240461515"
      ]
     },
     "execution_count": 44,
     "metadata": {},
     "output_type": "execute_result"
    }
   ],
   "source": [
    "# RMSE\n",
    "from sklearn.metrics import mean_squared_error\n",
    "mean_squared_error(y_test, y_pred, squared=False)"
   ]
  },
  {
   "cell_type": "markdown",
   "metadata": {},
   "source": [
    "Berdasarkan RMSE, nilai error `Price` dapat mencapai +- 2.539,027."
   ]
  },
  {
   "cell_type": "code",
   "execution_count": 45,
   "metadata": {},
   "outputs": [
    {
     "data": {
      "text/plain": [
       "0.8992967786170083"
      ]
     },
     "execution_count": 45,
     "metadata": {},
     "output_type": "execute_result"
    }
   ],
   "source": [
    "# R2\n",
    "\n",
    "from sklearn.metrics import r2_score\n",
    "r2_score(y_test, y_pred)"
   ]
  },
  {
   "cell_type": "markdown",
   "metadata": {},
   "source": [
    "Berdasarkan R2, korelasi linier antara input dengan target sebesar 0,899."
   ]
  },
  {
   "cell_type": "code",
   "execution_count": 46,
   "metadata": {},
   "outputs": [
    {
     "name": "stdout",
     "output_type": "stream",
     "text": [
      "Coefficients:  [ 2.99290196e+02 -1.49618098e+02  9.01075768e+02  1.69716903e+00\n",
      " -2.25496907e+02  5.43271734e+01 -1.90747038e+03  3.78551569e+01\n",
      "  1.02703166e+02 -9.63873111e+01 -9.34616083e+00 -1.38406824e+03\n",
      "  5.97469593e+02  9.21611114e+02  2.39096371e+00 -1.09497301e+03\n",
      "  2.91697489e+03 -0.00000000e+00 -4.93751371e+02  1.30571845e+01\n",
      " -5.89578324e+02  5.29718259e+02 -2.87175375e+02 -0.00000000e+00\n",
      "  8.88203224e+02 -3.05261442e+03 -1.59101639e+03 -1.00882890e+02\n",
      "  1.06669977e+04  0.00000000e+00  4.08580521e+03 -4.33025594e+03\n",
      " -1.77005437e+02  3.57300392e+01  0.00000000e+00  0.00000000e+00\n",
      " -6.08945271e+02  9.63823395e+02  7.43779703e+02  2.16661127e+03\n",
      "  1.75676904e+03  7.34946890e+03  9.39792165e+03 -1.74157365e+03\n",
      " -1.34871981e+03  2.15193696e+03  7.96994719e+00  3.13650652e+03\n",
      " -6.12528645e+02 -1.16366831e+03 -2.11993343e+03 -1.38545492e+03\n",
      " -5.89760677e-01 -9.07036939e+02  7.01791113e+03  0.00000000e+00\n",
      "  3.97101781e+03 -1.19897714e+04 -1.18054633e+03 -0.00000000e+00\n",
      "  2.62477192e+03]\n",
      "Intercept:  -57617.670144364994\n"
     ]
    }
   ],
   "source": [
    "# lasso regression\n",
    "\n",
    "from sklearn.linear_model import Lasso\n",
    "model = Lasso()\n",
    "model.fit(X_train, y_train)\n",
    "\n",
    "# regression coefficients\n",
    "print('Coefficients: ', model.coef_)\n",
    "\n",
    "# regression intercept\n",
    "print('Intercept: ', model.intercept_)"
   ]
  },
  {
   "cell_type": "code",
   "execution_count": 47,
   "metadata": {},
   "outputs": [
    {
     "name": "stdout",
     "output_type": "stream",
     "text": [
      "Variance score: 0.9034773027850612\n"
     ]
    },
    {
     "data": {
      "image/png": "[encoded data removed]",
      "text/plain": [
       "<Figure size 432x288 with 1 Axes>"
      ]
     },
     "metadata": {},
     "output_type": "display_data"
    }
   ],
   "source": [
    " # variance score: 1 means perfect prediction\n",
    "print('Variance score: {}'.format(model.score(X_test, y_test)))\n",
    " \n",
    "# plot for residual error\n",
    " \n",
    "## setting plot style\n",
    "plt.style.use('fivethirtyeight')\n",
    " \n",
    "## plotting residual errors in training data\n",
    "plt.scatter(model.predict(X_train), model.predict(X_train) - y_train,\n",
    "            color = \"green\", s = 10, label = 'Train data')\n",
    " \n",
    "## plotting residual errors in test data\n",
    "plt.scatter(model.predict(X_test), model.predict(X_test) - y_test,\n",
    "            color = \"blue\", s = 10, label = 'Test data')\n",
    " \n",
    "## plotting line for zero residual error\n",
    "plt.hlines(y = 0, xmin = 0, xmax = 40000, linewidth = 2)\n",
    " \n",
    "## plotting legend\n",
    "plt.legend(loc = 'best')\n",
    " \n",
    "## plot title\n",
    "plt.title(\"Residual errors\")\n",
    " \n",
    "## method call for showing the plot\n",
    "plt.show()"
   ]
  },
  {
   "cell_type": "code",
   "execution_count": 48,
   "metadata": {},
   "outputs": [],
   "source": [
    "y_pred = model.predict(X_test)"
   ]
  },
  {
   "cell_type": "code",
   "execution_count": 49,
   "metadata": {},
   "outputs": [
    {
     "data": {
      "text/plain": [
       "1720.1596259719397"
      ]
     },
     "execution_count": 49,
     "metadata": {},
     "output_type": "execute_result"
    }
   ],
   "source": [
    "# MAE\n",
    "from sklearn.metrics import mean_absolute_error\n",
    "mean_absolute_error(y_test, y_pred)"
   ]
  },
  {
   "cell_type": "markdown",
   "metadata": {},
   "source": [
    "Berdasarkan MAE, nilai error `Price` dapat mencapai +- 1.720,160."
   ]
  },
  {
   "cell_type": "code",
   "execution_count": 50,
   "metadata": {},
   "outputs": [
    {
     "data": {
      "text/plain": [
       "2485.7669962732066"
      ]
     },
     "execution_count": 50,
     "metadata": {},
     "output_type": "execute_result"
    }
   ],
   "source": [
    "# RMSE\n",
    "from sklearn.metrics import mean_squared_error\n",
    "mean_squared_error(y_test, y_pred, squared=False)"
   ]
  },
  {
   "cell_type": "markdown",
   "metadata": {},
   "source": [
    "Berdasarkan RMSE, nilai error `Price` dapat mencapai +- 2.485,767."
   ]
  },
  {
   "cell_type": "code",
   "execution_count": 51,
   "metadata": {},
   "outputs": [
    {
     "data": {
      "text/plain": [
       "0.9034773027850612"
      ]
     },
     "execution_count": 51,
     "metadata": {},
     "output_type": "execute_result"
    }
   ],
   "source": [
    "# R2\n",
    "\n",
    "from sklearn.metrics import r2_score\n",
    "r2_score(y_test, y_pred)"
   ]
  },
  {
   "cell_type": "markdown",
   "metadata": {},
   "source": [
    "Berdasarkan R2, korelasi linier antara input dengan target sebesar 0,903."
   ]
  },
  {
   "cell_type": "code",
   "execution_count": 52,
   "metadata": {},
   "outputs": [
    {
     "name": "stdout",
     "output_type": "stream",
     "text": [
      "Coefficients:  [  32.18582984  -68.31136302  493.14627161    3.13327233   30.95017482\n",
      "   81.14279364 -103.34361739   47.52979786  -19.56797481   -1.18836199\n",
      " -143.50580786   38.32669177   34.11753852 -166.61738582  294.68344336\n",
      "  -57.00448115  292.40589272  172.65826229 -478.50963115  133.2203214\n",
      " -120.77484363  -60.90925965 -248.46101731  310.37027562 -152.89266289\n",
      "  -46.32871725  -61.01996227   76.83301527  285.74032256 -216.2637743\n",
      "  114.93177828    9.56828768 -158.41006119  114.93177832  235.15169728\n",
      "    0.           39.02114588 -226.66819023  -14.59465841    4.60213264\n",
      "  146.2954933   260.02114466  399.10835438   10.50621141   21.55647289\n",
      "   42.27143678    3.62750009 -113.43877645  112.84974488  -51.73649101\n",
      " -357.88196395 -320.30418508  -61.0199618   -21.16725719  416.49301013\n",
      "  -34.54199649  102.51101284 -143.39023073 -396.84024684   44.3521768\n",
      "  -65.87357987]\n",
      "Intercept:  -32964.86351761433\n"
     ]
    }
   ],
   "source": [
    "# elasticnet regression\n",
    "\n",
    "from sklearn.linear_model import ElasticNet\n",
    "model = ElasticNet()\n",
    "model.fit(X_train, y_train)\n",
    "\n",
    "# regression coefficients\n",
    "print('Coefficients: ', model.coef_)\n",
    "\n",
    "# regression intercept\n",
    "print('Intercept: ', model.intercept_)"
   ]
  },
  {
   "cell_type": "code",
   "execution_count": 53,
   "metadata": {},
   "outputs": [
    {
     "name": "stdout",
     "output_type": "stream",
     "text": [
      "Variance score: 0.8451092137929559\n"
     ]
    },
    {
     "data": {
      "image/png": "[encoded data removed]",
      "text/plain": [
       "<Figure size 432x288 with 1 Axes>"
      ]
     },
     "metadata": {},
     "output_type": "display_data"
    }
   ],
   "source": [
    " # variance score: 1 means perfect prediction\n",
    "print('Variance score: {}'.format(model.score(X_test, y_test)))\n",
    " \n",
    "# plot for residual error\n",
    " \n",
    "## setting plot style\n",
    "plt.style.use('fivethirtyeight')\n",
    " \n",
    "## plotting residual errors in training data\n",
    "plt.scatter(model.predict(X_train), model.predict(X_train) - y_train,\n",
    "            color = \"green\", s = 10, label = 'Train data')\n",
    " \n",
    "## plotting residual errors in test data\n",
    "plt.scatter(model.predict(X_test), model.predict(X_test) - y_test,\n",
    "            color = \"blue\", s = 10, label = 'Test data')\n",
    " \n",
    "## plotting line for zero residual error\n",
    "plt.hlines(y = 0, xmin = 0, xmax = 40000, linewidth = 2)\n",
    " \n",
    "## plotting legend\n",
    "plt.legend(loc = 'best')\n",
    " \n",
    "## plot title\n",
    "plt.title(\"Residual errors\")\n",
    " \n",
    "## method call for showing the plot\n",
    "plt.show()"
   ]
  },
  {
   "cell_type": "code",
   "execution_count": 54,
   "metadata": {},
   "outputs": [],
   "source": [
    "y_pred = model.predict(X_test)"
   ]
  },
  {
   "cell_type": "code",
   "execution_count": 55,
   "metadata": {},
   "outputs": [
    {
     "data": {
      "text/plain": [
       "2160.8474844473703"
      ]
     },
     "execution_count": 55,
     "metadata": {},
     "output_type": "execute_result"
    }
   ],
   "source": [
    "# MAE\n",
    "from sklearn.metrics import mean_absolute_error\n",
    "mean_absolute_error(y_test, y_pred)"
   ]
  },
  {
   "cell_type": "markdown",
   "metadata": {},
   "source": [
    "Berdasarkan MAE, nilai error `Price` dapat mencapai +- 2.160,847."
   ]
  },
  {
   "cell_type": "code",
   "execution_count": 56,
   "metadata": {},
   "outputs": [
    {
     "data": {
      "text/plain": [
       "3148.897216587652"
      ]
     },
     "execution_count": 56,
     "metadata": {},
     "output_type": "execute_result"
    }
   ],
   "source": [
    "# RMSE\n",
    "from sklearn.metrics import mean_squared_error\n",
    "mean_squared_error(y_test, y_pred, squared=False)"
   ]
  },
  {
   "cell_type": "markdown",
   "metadata": {},
   "source": [
    "Berdasarkan RMSE, nilai error `Price` dapat mencapai +- 3.148,897."
   ]
  },
  {
   "cell_type": "code",
   "execution_count": 57,
   "metadata": {},
   "outputs": [
    {
     "data": {
      "text/plain": [
       "0.8451092137929559"
      ]
     },
     "execution_count": 57,
     "metadata": {},
     "output_type": "execute_result"
    }
   ],
   "source": [
    "# R2\n",
    "\n",
    "from sklearn.metrics import r2_score\n",
    "r2_score(y_test, y_pred)"
   ]
  },
  {
   "cell_type": "markdown",
   "metadata": {},
   "source": [
    "Berdasarkan R2, korelasi linier antara input dengan target sebesar 0,845."
   ]
  },
  {
   "cell_type": "code",
   "execution_count": 116,
   "metadata": {},
   "outputs": [
    {
     "data": {
      "text/plain": [
       "RandomForestRegressor()"
      ]
     },
     "execution_count": 116,
     "metadata": {},
     "output_type": "execute_result"
    }
   ],
   "source": [
    "from sklearn.ensemble import RandomForestRegressor\n",
    "\n",
    "rf = RandomForestRegressor()\n",
    "rf.fit(X_train, y_train)"
   ]
  },
  {
   "cell_type": "code",
   "execution_count": 117,
   "metadata": {},
   "outputs": [
    {
     "name": "stdout",
     "output_type": "stream",
     "text": [
      "Variance score: 0.9359319832942709\n"
     ]
    },
    {
     "data": {
      "image/png": "[encoded data removed]",
      "text/plain": [
       "<Figure size 432x288 with 1 Axes>"
      ]
     },
     "metadata": {},
     "output_type": "display_data"
    }
   ],
   "source": [
    " # variance score: 1 means perfect prediction\n",
    "print('Variance score: {}'.format(rf.score(X_test, y_test)))\n",
    " \n",
    "# plot for residual error\n",
    " \n",
    "## setting plot style\n",
    "plt.style.use('fivethirtyeight')\n",
    " \n",
    "## plotting residual errors in training data\n",
    "plt.scatter(rf.predict(X_train), rf.predict(X_train) - y_train,\n",
    "            color = \"green\", s = 10, label = 'Train data')\n",
    " \n",
    "## plotting residual errors in test data\n",
    "plt.scatter(rf.predict(X_test), rf.predict(X_test) - y_test,\n",
    "            color = \"blue\", s = 10, label = 'Test data')\n",
    " \n",
    "## plotting line for zero residual error\n",
    "plt.hlines(y = 0, xmin = 0, xmax = 40000, linewidth = 2)\n",
    " \n",
    "## plotting legend\n",
    "plt.legend(loc = 'best')\n",
    " \n",
    "## plot title\n",
    "plt.title(\"Residual errors\")\n",
    " \n",
    "## method call for showing the plot\n",
    "plt.show()"
   ]
  },
  {
   "cell_type": "code",
   "execution_count": 118,
   "metadata": {},
   "outputs": [],
   "source": [
    "y_pred = rf.predict(X_test)"
   ]
  },
  {
   "cell_type": "code",
   "execution_count": 119,
   "metadata": {},
   "outputs": [
    {
     "data": {
      "text/plain": [
       "1333.7599942566785"
      ]
     },
     "execution_count": 119,
     "metadata": {},
     "output_type": "execute_result"
    }
   ],
   "source": [
    "# MAE\n",
    "from sklearn.metrics import mean_absolute_error\n",
    "mean_absolute_error(y_test, y_pred)"
   ]
  },
  {
   "cell_type": "markdown",
   "metadata": {},
   "source": [
    "Berdasarkan MAE, nilai error `Price` dapat mencapai +- 1.333,760."
   ]
  },
  {
   "cell_type": "code",
   "execution_count": 120,
   "metadata": {},
   "outputs": [
    {
     "data": {
      "text/plain": [
       "2025.1926055175275"
      ]
     },
     "execution_count": 120,
     "metadata": {},
     "output_type": "execute_result"
    }
   ],
   "source": [
    "# RMSE\n",
    "from sklearn.metrics import mean_squared_error\n",
    "mean_squared_error(y_test, y_pred, squared=False)"
   ]
  },
  {
   "cell_type": "markdown",
   "metadata": {},
   "source": [
    "Berdasarkan RMSE, nilai error `Price` dapat mencapai +- 2.025,193."
   ]
  },
  {
   "cell_type": "code",
   "execution_count": 121,
   "metadata": {},
   "outputs": [
    {
     "data": {
      "text/plain": [
       "0.9359319832942709"
      ]
     },
     "execution_count": 121,
     "metadata": {},
     "output_type": "execute_result"
    }
   ],
   "source": [
    "# R2\n",
    "\n",
    "from sklearn.metrics import r2_score\n",
    "r2_score(y_test, y_pred)"
   ]
  },
  {
   "cell_type": "markdown",
   "metadata": {},
   "source": [
    "Berdasarkan R2, korelasi linier antara input dengan target sebesar 0,935."
   ]
  },
  {
   "cell_type": "markdown",
   "metadata": {},
   "source": [
    "Berdasarkan nilai R2 dari berbagai model, model RandomForestRegressor merupakan model terbaik untuk dipilih karena memiliki nilai R2 terbesar."
   ]
  },
  {
   "cell_type": "code",
   "execution_count": 100,
   "metadata": {},
   "outputs": [
    {
     "data": {
      "text/plain": [
       "array([1.86475401e-02, 5.82315856e-03, 2.04336257e-02, 1.54848338e-01,\n",
       "       2.27307601e-03, 6.38466849e-01, 4.94177483e-03, 4.19188367e-02,\n",
       "       1.64325105e-02, 7.56493767e-02, 2.40098162e-04, 1.64682055e-04,\n",
       "       6.48574185e-04, 3.67576233e-04, 2.32768073e-04, 8.52634367e-05,\n",
       "       1.22987525e-03, 2.31577701e-04, 4.92262962e-04, 1.17027678e-03,\n",
       "       1.27596524e-03, 3.13666143e-04, 7.10569846e-04, 6.60906598e-04,\n",
       "       8.17618676e-05, 1.13094155e-04, 4.46376412e-05, 2.74017120e-03,\n",
       "       5.93673584e-05, 5.84413791e-04, 1.23483758e-05, 2.33866171e-06,\n",
       "       9.49191741e-04, 8.39377988e-06, 3.55902608e-04, 0.00000000e+00,\n",
       "       5.00871736e-04, 1.12395577e-04, 2.49273199e-05, 6.47429247e-05,\n",
       "       5.80650552e-04, 3.80061452e-03, 3.84167218e-05, 1.19248339e-05,\n",
       "       2.05537614e-05, 9.63717648e-05, 1.91104835e-04, 3.19362415e-05,\n",
       "       3.98291912e-04, 1.24799483e-05, 6.92443595e-05, 5.34031659e-05,\n",
       "       2.53285618e-04, 2.98214288e-05, 5.77943454e-04, 5.05132640e-06,\n",
       "       4.95354930e-05, 7.85576928e-05, 4.18681424e-04, 2.71528311e-04,\n",
       "       9.68950898e-05])"
      ]
     },
     "execution_count": 100,
     "metadata": {},
     "output_type": "execute_result"
    }
   ],
   "source": [
    "rf.feature_importances_"
   ]
  },
  {
   "cell_type": "code",
   "execution_count": 101,
   "metadata": {},
   "outputs": [
    {
     "name": "stdout",
     "output_type": "stream",
     "text": [
      "enginesize    0.638467\n",
      "curbweight    0.154848\n",
      "highwaympg    0.075649\n",
      "horsepower    0.041919\n",
      "carwidth      0.020434\n",
      "wheelbase     0.018648\n",
      "citympg       0.016433\n",
      "carlength     0.005823\n",
      "boreratio     0.004942\n",
      "Brand_bmw     0.003801\n",
      "dtype: float64\n"
     ]
    }
   ],
   "source": [
    "feature = pd.Series(rf.feature_importances_, index=X.columns)\n",
    "feature.sort_values(ascending=False, inplace=True)\n",
    "print(feature.head(10))"
   ]
  },
  {
   "cell_type": "code",
   "execution_count": 102,
   "metadata": {},
   "outputs": [],
   "source": [
    "# hyperparameter tuning\n",
    "\n",
    "rf = RandomForestRegressor(random_state=42, n_jobs=-1)"
   ]
  },
  {
   "cell_type": "code",
   "execution_count": 103,
   "metadata": {},
   "outputs": [],
   "source": [
    "params = {\n",
    "    'max_depth': [2,3,5,10,20],\n",
    "    'min_samples_leaf': [5,10,25,50,100,200],\n",
    "    'n_estimators': [5,10,25,50,100,200]\n",
    "}"
   ]
  },
  {
   "cell_type": "code",
   "execution_count": 104,
   "metadata": {},
   "outputs": [
    {
     "name": "stdout",
     "output_type": "stream",
     "text": [
      "Fitting 5 folds for each of 180 candidates, totalling 900 fits\n"
     ]
    },
    {
     "name": "stderr",
     "output_type": "stream",
     "text": [
      "c:\\ProgramData\\Anaconda3\\lib\\site-packages\\sklearn\\model_selection\\_search.py:922: UserWarning: One or more of the test scores are non-finite: [nan nan nan nan nan nan nan nan nan nan nan nan nan nan nan nan nan nan\n",
      " nan nan nan nan nan nan nan nan nan nan nan nan nan nan nan nan nan nan\n",
      " nan nan nan nan nan nan nan nan nan nan nan nan nan nan nan nan nan nan\n",
      " nan nan nan nan nan nan nan nan nan nan nan nan nan nan nan nan nan nan\n",
      " nan nan nan nan nan nan nan nan nan nan nan nan nan nan nan nan nan nan\n",
      " nan nan nan nan nan nan nan nan nan nan nan nan nan nan nan nan nan nan\n",
      " nan nan nan nan nan nan nan nan nan nan nan nan nan nan nan nan nan nan\n",
      " nan nan nan nan nan nan nan nan nan nan nan nan nan nan nan nan nan nan\n",
      " nan nan nan nan nan nan nan nan nan nan nan nan nan nan nan nan nan nan\n",
      " nan nan nan nan nan nan nan nan nan nan nan nan nan nan nan nan nan nan]\n",
      "  warnings.warn(\n"
     ]
    },
    {
     "data": {
      "text/plain": [
       "GridSearchCV(cv=5, estimator=RandomForestRegressor(n_jobs=-1, random_state=42),\n",
       "             n_jobs=-1,\n",
       "             param_grid={'max_depth': [2, 3, 5, 10, 20],\n",
       "                         'min_samples_leaf': [5, 10, 25, 50, 100, 200],\n",
       "                         'n_estimators': [5, 10, 25, 50, 100, 200]},\n",
       "             scoring='accuracy', verbose=1)"
      ]
     },
     "execution_count": 104,
     "metadata": {},
     "output_type": "execute_result"
    }
   ],
   "source": [
    "from sklearn.model_selection import GridSearchCV\n",
    "\n",
    "# Instantiate the grid search model\n",
    "grid_search = GridSearchCV(estimator=rf,\n",
    "                           param_grid=params,\n",
    "                           cv = 5,\n",
    "                           n_jobs=-1, verbose=1, scoring=\"accuracy\")\n",
    "\n",
    "grid_search.fit(X_train, y_train)"
   ]
  },
  {
   "cell_type": "code",
   "execution_count": 105,
   "metadata": {},
   "outputs": [
    {
     "data": {
      "text/plain": [
       "nan"
      ]
     },
     "execution_count": 105,
     "metadata": {},
     "output_type": "execute_result"
    }
   ],
   "source": [
    "grid_search.best_score_"
   ]
  },
  {
   "cell_type": "code",
   "execution_count": 106,
   "metadata": {},
   "outputs": [
    {
     "data": {
      "text/plain": [
       "RandomForestRegressor(max_depth=2, min_samples_leaf=5, n_estimators=5,\n",
       "                      n_jobs=-1, random_state=42)"
      ]
     },
     "execution_count": 106,
     "metadata": {},
     "output_type": "execute_result"
    }
   ],
   "source": [
    "rf_best = grid_search.best_estimator_\n",
    "rf_best.fit(X_train, y_train)"
   ]
  },
  {
   "cell_type": "code",
   "execution_count": 107,
   "metadata": {},
   "outputs": [
    {
     "name": "stdout",
     "output_type": "stream",
     "text": [
      "Variance score: 0.8871357457575699\n"
     ]
    },
    {
     "data": {
      "image/png": "[encoded data removed]",
      "text/plain": [
       "<Figure size 432x288 with 1 Axes>"
      ]
     },
     "metadata": {},
     "output_type": "display_data"
    }
   ],
   "source": [
    " # variance score: 1 means perfect prediction\n",
    "print('Variance score: {}'.format(rf_best.score(X_test, y_test)))\n",
    " \n",
    "# plot for residual error\n",
    " \n",
    "## setting plot style\n",
    "plt.style.use('fivethirtyeight')\n",
    " \n",
    "## plotting residual errors in training data\n",
    "plt.scatter(rf_best.predict(X_train), rf_best.predict(X_train) - y_train,\n",
    "            color = \"green\", s = 10, label = 'Train data')\n",
    " \n",
    "## plotting residual errors in test data\n",
    "plt.scatter(rf_best.predict(X_test), rf_best.predict(X_test) - y_test,\n",
    "            color = \"blue\", s = 10, label = 'Test data')\n",
    " \n",
    "## plotting line for zero residual error\n",
    "plt.hlines(y = 0, xmin = 0, xmax = 40000, linewidth = 2)\n",
    " \n",
    "## plotting legend\n",
    "plt.legend(loc = 'best')\n",
    " \n",
    "## plot title\n",
    "plt.title(\"Residual errors\")\n",
    " \n",
    "## method call for showing the plot\n",
    "plt.show()"
   ]
  },
  {
   "cell_type": "code",
   "execution_count": 108,
   "metadata": {},
   "outputs": [],
   "source": [
    "y_pred = rf_best.predict(X_test)"
   ]
  },
  {
   "cell_type": "code",
   "execution_count": 109,
   "metadata": {},
   "outputs": [
    {
     "data": {
      "text/plain": [
       "1960.7384667187985"
      ]
     },
     "execution_count": 109,
     "metadata": {},
     "output_type": "execute_result"
    }
   ],
   "source": [
    "# MAE\n",
    "from sklearn.metrics import mean_absolute_error\n",
    "mean_absolute_error(y_test, y_pred)"
   ]
  },
  {
   "cell_type": "markdown",
   "metadata": {},
   "source": [
    "Berdasarkan MAE, nilai error `Price` dapat mencapai +- 1.960,738."
   ]
  },
  {
   "cell_type": "code",
   "execution_count": 110,
   "metadata": {},
   "outputs": [
    {
     "data": {
      "text/plain": [
       "2687.9668048296608"
      ]
     },
     "execution_count": 110,
     "metadata": {},
     "output_type": "execute_result"
    }
   ],
   "source": [
    "# RMSE\n",
    "from sklearn.metrics import mean_squared_error\n",
    "mean_squared_error(y_test, y_pred, squared=False)"
   ]
  },
  {
   "cell_type": "markdown",
   "metadata": {},
   "source": [
    "Berdasarkan RMSE, nilai error `Price` dapat mencapai +- 2.687,967."
   ]
  },
  {
   "cell_type": "code",
   "execution_count": 111,
   "metadata": {},
   "outputs": [
    {
     "data": {
      "text/plain": [
       "0.88713574575757"
      ]
     },
     "execution_count": 111,
     "metadata": {},
     "output_type": "execute_result"
    }
   ],
   "source": [
    "# R2\n",
    "\n",
    "from sklearn.metrics import r2_score\n",
    "r2_score(y_test, y_pred)"
   ]
  },
  {
   "cell_type": "markdown",
   "metadata": {},
   "source": [
    "Berdasarkan R2, korelasi linier antara input dengan target sebesar 0,887."
   ]
  },
  {
   "cell_type": "markdown",
   "metadata": {},
   "source": [
    "Setelah melakukan hyperparameter tuning, model sebelum dilakukan hyperparameter tuning memiliki nilai R2 tertinggi."
   ]
  },
  {
   "cell_type": "code",
   "execution_count": null,
   "metadata": {},
   "outputs": [],
   "source": []
  }
 ],
 "metadata": {
  "kernelspec": {
   "display_name": "Python 3.9.7 ('base')",
   "language": "python",
   "name": "python3"
  },
  "language_info": {
   "codemirror_mode": {
    "name": "ipython",
    "version": 3
   },
   "file_extension": ".py",
   "mimetype": "text/x-python",
   "name": "python",
   "nbconvert_exporter": "python",
   "pygments_lexer": "ipython3",
   "version": "3.9.7"
  },
  "orig_nbformat": 4,
  "vscode": {
   "interpreter": {
    "hash": "ad2bdc8ecc057115af97d19610ffacc2b4e99fae6737bb82f5d7fb13d2f2c186"
   }
  }
 },
 "nbformat": 4,
 "nbformat_minor": 2
}
